{
  "nbformat": 4,
  "nbformat_minor": 0,
  "metadata": {
    "colab": {
      "name": "airbnb_final.ipynb",
      "provenance": [],
      "collapsed_sections": [],
      "include_colab_link": true
    },
    "kernelspec": {
      "name": "python3",
      "display_name": "Python 3"
    }
  },
  "cells": [
    {
      "cell_type": "markdown",
      "metadata": {
        "id": "view-in-github",
        "colab_type": "text"
      },
      "source": [
        "<a href=\"https://colab.research.google.com/github/KakashiDin/coursera-capstone/blob/master/airbnb_final.ipynb\" target=\"_parent\"><img src=\"https://colab.research.google.com/assets/colab-badge.svg\" alt=\"Open In Colab\"/></a>"
      ]
    },
    {
      "cell_type": "code",
      "metadata": {
        "id": "efRwjh9afntp"
      },
      "source": [
        "import pandas as pd"
      ],
      "execution_count": null,
      "outputs": []
    },
    {
      "cell_type": "code",
      "metadata": {
        "id": "KjG1XErZgOfR"
      },
      "source": [
        "import numpy as np\n",
        "import matplotlib.pyplot as plt\n",
        "%matplotlib inline\n",
        "import seaborn as sns\n",
        "import plotly.express as px"
      ],
      "execution_count": null,
      "outputs": []
    },
    {
      "cell_type": "code",
      "metadata": {
        "id": "geUarEdTgOi0",
        "colab": {
          "resources": {
            "http://localhost:8080/nbextensions/google.colab/files.js": {
              "data": "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",
              "ok": true,
              "headers": [
                [
                  "content-type",
                  "application/javascript"
                ]
              ],
              "status": 200,
              "status_text": "OK"
            }
          },
          "base_uri": "https://localhost:8080/",
          "height": 79
        },
        "outputId": "74794b1f-a063-4b1d-ac86-8993cd0dfff6"
      },
      "source": [
        "from google.colab import files\n",
        "uploaded = files.upload()"
      ],
      "execution_count": null,
      "outputs": [
        {
          "output_type": "display_data",
          "data": {
            "text/html": [
              "\n",
              "     <input type=\"file\" id=\"files-585efc3e-7cb5-4f7f-b7ce-d8581013f430\" name=\"files[]\" multiple disabled\n",
              "        style=\"border:none\" />\n",
              "     <output id=\"result-585efc3e-7cb5-4f7f-b7ce-d8581013f430\">\n",
              "      Upload widget is only available when the cell has been executed in the\n",
              "      current browser session. Please rerun this cell to enable.\n",
              "      </output>\n",
              "      <script src=\"/nbextensions/google.colab/files.js\"></script> "
            ],
            "text/plain": [
              "<IPython.core.display.HTML object>"
            ]
          },
          "metadata": {
            "tags": []
          }
        },
        {
          "output_type": "stream",
          "text": [
            "Saving tomslee_airbnb_boston_0282_2016-01-16.csv to tomslee_airbnb_boston_0282_2016-01-16.csv\n"
          ],
          "name": "stdout"
        }
      ]
    },
    {
      "cell_type": "code",
      "metadata": {
        "id": "o-8oS9eygOp1"
      },
      "source": [
        "import io\n",
        "bjan = pd.read_csv(io.BytesIO(uploaded['tomslee_airbnb_boston_0282_2016-01-16.csv']))"
      ],
      "execution_count": null,
      "outputs": []
    },
    {
      "cell_type": "code",
      "metadata": {
        "id": "RZ9prLtLgOs1",
        "colab": {
          "base_uri": "https://localhost:8080/",
          "height": 313
        },
        "outputId": "45f302fe-2702-46df-d4a6-b74a5f7c859c"
      },
      "source": [
        "bjan.head()"
      ],
      "execution_count": null,
      "outputs": [
        {
          "output_type": "execute_result",
          "data": {
            "text/html": [
              "<div>\n",
              "<style scoped>\n",
              "    .dataframe tbody tr th:only-of-type {\n",
              "        vertical-align: middle;\n",
              "    }\n",
              "\n",
              "    .dataframe tbody tr th {\n",
              "        vertical-align: top;\n",
              "    }\n",
              "\n",
              "    .dataframe thead th {\n",
              "        text-align: right;\n",
              "    }\n",
              "</style>\n",
              "<table border=\"1\" class=\"dataframe\">\n",
              "  <thead>\n",
              "    <tr style=\"text-align: right;\">\n",
              "      <th></th>\n",
              "      <th>room_id</th>\n",
              "      <th>host_id</th>\n",
              "      <th>room_type</th>\n",
              "      <th>borough</th>\n",
              "      <th>neighborhood</th>\n",
              "      <th>reviews</th>\n",
              "      <th>overall_satisfaction</th>\n",
              "      <th>accommodates</th>\n",
              "      <th>bedrooms</th>\n",
              "      <th>price</th>\n",
              "      <th>minstay</th>\n",
              "      <th>latitude</th>\n",
              "      <th>longitude</th>\n",
              "      <th>last_modified</th>\n",
              "    </tr>\n",
              "  </thead>\n",
              "  <tbody>\n",
              "    <tr>\n",
              "      <th>0</th>\n",
              "      <td>7275108</td>\n",
              "      <td>892781.0</td>\n",
              "      <td>Entire home/apt</td>\n",
              "      <td>NaN</td>\n",
              "      <td>South End</td>\n",
              "      <td>3</td>\n",
              "      <td>5.0</td>\n",
              "      <td>NaN</td>\n",
              "      <td>2.0</td>\n",
              "      <td>380.0</td>\n",
              "      <td>2.0</td>\n",
              "      <td>42.343598</td>\n",
              "      <td>-71.071908</td>\n",
              "      <td>2016-01-16 14:20:07.808024</td>\n",
              "    </tr>\n",
              "    <tr>\n",
              "      <th>1</th>\n",
              "      <td>613719</td>\n",
              "      <td>970426.0</td>\n",
              "      <td>Entire home/apt</td>\n",
              "      <td>NaN</td>\n",
              "      <td>Beacon Hill</td>\n",
              "      <td>12</td>\n",
              "      <td>4.5</td>\n",
              "      <td>4.0</td>\n",
              "      <td>1.0</td>\n",
              "      <td>180.0</td>\n",
              "      <td>7.0</td>\n",
              "      <td>42.358973</td>\n",
              "      <td>-71.067036</td>\n",
              "      <td>2016-01-16 14:20:01.317710</td>\n",
              "    </tr>\n",
              "    <tr>\n",
              "      <th>2</th>\n",
              "      <td>1724900</td>\n",
              "      <td>7723912.0</td>\n",
              "      <td>Entire home/apt</td>\n",
              "      <td>NaN</td>\n",
              "      <td>Roslindale</td>\n",
              "      <td>18</td>\n",
              "      <td>4.5</td>\n",
              "      <td>4.0</td>\n",
              "      <td>2.0</td>\n",
              "      <td>146.0</td>\n",
              "      <td>5.0</td>\n",
              "      <td>42.282905</td>\n",
              "      <td>-71.132677</td>\n",
              "      <td>2016-01-16 14:19:51.321258</td>\n",
              "    </tr>\n",
              "    <tr>\n",
              "      <th>3</th>\n",
              "      <td>3727560</td>\n",
              "      <td>19036819.0</td>\n",
              "      <td>Private room</td>\n",
              "      <td>NaN</td>\n",
              "      <td>Roxbury</td>\n",
              "      <td>76</td>\n",
              "      <td>4.5</td>\n",
              "      <td>2.0</td>\n",
              "      <td>1.0</td>\n",
              "      <td>70.0</td>\n",
              "      <td>2.0</td>\n",
              "      <td>42.329231</td>\n",
              "      <td>-71.079758</td>\n",
              "      <td>2016-01-16 14:19:41.577866</td>\n",
              "    </tr>\n",
              "    <tr>\n",
              "      <th>4</th>\n",
              "      <td>8309604</td>\n",
              "      <td>4127253.0</td>\n",
              "      <td>Entire home/apt</td>\n",
              "      <td>NaN</td>\n",
              "      <td>Back Bay</td>\n",
              "      <td>1</td>\n",
              "      <td>5.0</td>\n",
              "      <td>4.0</td>\n",
              "      <td>2.0</td>\n",
              "      <td>290.0</td>\n",
              "      <td>2.0</td>\n",
              "      <td>42.348327</td>\n",
              "      <td>-71.073732</td>\n",
              "      <td>2016-01-16 14:19:26.414634</td>\n",
              "    </tr>\n",
              "  </tbody>\n",
              "</table>\n",
              "</div>"
            ],
            "text/plain": [
              "   room_id     host_id  ...  longitude               last_modified\n",
              "0  7275108    892781.0  ... -71.071908  2016-01-16 14:20:07.808024\n",
              "1   613719    970426.0  ... -71.067036  2016-01-16 14:20:01.317710\n",
              "2  1724900   7723912.0  ... -71.132677  2016-01-16 14:19:51.321258\n",
              "3  3727560  19036819.0  ... -71.079758  2016-01-16 14:19:41.577866\n",
              "4  8309604   4127253.0  ... -71.073732  2016-01-16 14:19:26.414634\n",
              "\n",
              "[5 rows x 14 columns]"
            ]
          },
          "metadata": {
            "tags": []
          },
          "execution_count": 5
        }
      ]
    },
    {
      "cell_type": "markdown",
      "metadata": {
        "id": "1ilRdljZTfbL"
      },
      "source": [
        "when taking dot product we were getting NaN as output. Now checking for null values in minstay and reviews. In minstay we found around 80 missing values. After removing them we got a scalar, but we wanted a list. Lets deal with it!"
      ]
    },
    {
      "cell_type": "code",
      "metadata": {
        "id": "91x8iQd5BJzo",
        "colab": {
          "base_uri": "https://localhost:8080/",
          "height": 69
        },
        "outputId": "8a2a5323-4ad2-402b-fcec-95dce1c2ce80"
      },
      "source": [
        "d=pd.isna(bjan['minstay'])\n",
        "e=pd.DataFrame(bjan.loc[lambda bjan: d==True])\n",
        "f=e.index.tolist()\n",
        "bjan.drop(index=f,inplace=True)\n",
        "\n",
        "l=pd.isna(bjan['accommodates'])\n",
        "m=pd.DataFrame(bjan.loc[lambda bjan: l==True])\n",
        "o=m.index.tolist()\n",
        "bjan.drop(index=o,inplace=True)\n",
        "bjan.loc[lambda bjan: l==True] #checking"
      ],
      "execution_count": null,
      "outputs": [
        {
          "output_type": "execute_result",
          "data": {
            "text/html": [
              "<div>\n",
              "<style scoped>\n",
              "    .dataframe tbody tr th:only-of-type {\n",
              "        vertical-align: middle;\n",
              "    }\n",
              "\n",
              "    .dataframe tbody tr th {\n",
              "        vertical-align: top;\n",
              "    }\n",
              "\n",
              "    .dataframe thead th {\n",
              "        text-align: right;\n",
              "    }\n",
              "</style>\n",
              "<table border=\"1\" class=\"dataframe\">\n",
              "  <thead>\n",
              "    <tr style=\"text-align: right;\">\n",
              "      <th></th>\n",
              "      <th>room_id</th>\n",
              "      <th>host_id</th>\n",
              "      <th>room_type</th>\n",
              "      <th>borough</th>\n",
              "      <th>neighborhood</th>\n",
              "      <th>reviews</th>\n",
              "      <th>overall_satisfaction</th>\n",
              "      <th>accommodates</th>\n",
              "      <th>bedrooms</th>\n",
              "      <th>price</th>\n",
              "      <th>minstay</th>\n",
              "      <th>latitude</th>\n",
              "      <th>longitude</th>\n",
              "      <th>last_modified</th>\n",
              "    </tr>\n",
              "  </thead>\n",
              "  <tbody>\n",
              "  </tbody>\n",
              "</table>\n",
              "</div>"
            ],
            "text/plain": [
              "Empty DataFrame\n",
              "Columns: [room_id, host_id, room_type, borough, neighborhood, reviews, overall_satisfaction, accommodates, bedrooms, price, minstay, latitude, longitude, last_modified]\n",
              "Index: []"
            ]
          },
          "metadata": {
            "tags": []
          },
          "execution_count": 6
        }
      ]
    },
    {
      "cell_type": "code",
      "metadata": {
        "id": "SPc3CfOegPBP",
        "colab": {
          "base_uri": "https://localhost:8080/",
          "height": 565
        },
        "outputId": "1b62d020-c3e7-46d1-c63f-d67b60f67e4a"
      },
      "source": [
        "g=bjan[['reviews']]\n",
        "h=bjan[['minstay']]\n",
        "i=bjan[['accommodates']]\n",
        "h.rename(columns={'minstay':'flux'},inplace=True)\n",
        "g.rename(columns={'reviews':'flux'},inplace=True)\n",
        "i.rename(columns={'accommodates':'flux'},inplace=True)\n",
        "j=g*h*i\n",
        "j\n",
        "\n"
      ],
      "execution_count": null,
      "outputs": [
        {
          "output_type": "stream",
          "text": [
            "/usr/local/lib/python3.6/dist-packages/pandas/core/frame.py:4308: SettingWithCopyWarning:\n",
            "\n",
            "\n",
            "A value is trying to be set on a copy of a slice from a DataFrame\n",
            "\n",
            "See the caveats in the documentation: https://pandas.pydata.org/pandas-docs/stable/user_guide/indexing.html#returning-a-view-versus-a-copy\n",
            "\n"
          ],
          "name": "stderr"
        },
        {
          "output_type": "execute_result",
          "data": {
            "text/html": [
              "<div>\n",
              "<style scoped>\n",
              "    .dataframe tbody tr th:only-of-type {\n",
              "        vertical-align: middle;\n",
              "    }\n",
              "\n",
              "    .dataframe tbody tr th {\n",
              "        vertical-align: top;\n",
              "    }\n",
              "\n",
              "    .dataframe thead th {\n",
              "        text-align: right;\n",
              "    }\n",
              "</style>\n",
              "<table border=\"1\" class=\"dataframe\">\n",
              "  <thead>\n",
              "    <tr style=\"text-align: right;\">\n",
              "      <th></th>\n",
              "      <th>flux</th>\n",
              "    </tr>\n",
              "  </thead>\n",
              "  <tbody>\n",
              "    <tr>\n",
              "      <th>1</th>\n",
              "      <td>336.0</td>\n",
              "    </tr>\n",
              "    <tr>\n",
              "      <th>2</th>\n",
              "      <td>360.0</td>\n",
              "    </tr>\n",
              "    <tr>\n",
              "      <th>3</th>\n",
              "      <td>304.0</td>\n",
              "    </tr>\n",
              "    <tr>\n",
              "      <th>4</th>\n",
              "      <td>8.0</td>\n",
              "    </tr>\n",
              "    <tr>\n",
              "      <th>5</th>\n",
              "      <td>0.0</td>\n",
              "    </tr>\n",
              "    <tr>\n",
              "      <th>...</th>\n",
              "      <td>...</td>\n",
              "    </tr>\n",
              "    <tr>\n",
              "      <th>2822</th>\n",
              "      <td>192.0</td>\n",
              "    </tr>\n",
              "    <tr>\n",
              "      <th>2823</th>\n",
              "      <td>138.0</td>\n",
              "    </tr>\n",
              "    <tr>\n",
              "      <th>2824</th>\n",
              "      <td>0.0</td>\n",
              "    </tr>\n",
              "    <tr>\n",
              "      <th>2825</th>\n",
              "      <td>12.0</td>\n",
              "    </tr>\n",
              "    <tr>\n",
              "      <th>2826</th>\n",
              "      <td>154.0</td>\n",
              "    </tr>\n",
              "  </tbody>\n",
              "</table>\n",
              "<p>2531 rows × 1 columns</p>\n",
              "</div>"
            ],
            "text/plain": [
              "       flux\n",
              "1     336.0\n",
              "2     360.0\n",
              "3     304.0\n",
              "4       8.0\n",
              "5       0.0\n",
              "...     ...\n",
              "2822  192.0\n",
              "2823  138.0\n",
              "2824    0.0\n",
              "2825   12.0\n",
              "2826  154.0\n",
              "\n",
              "[2531 rows x 1 columns]"
            ]
          },
          "metadata": {
            "tags": []
          },
          "execution_count": 7
        }
      ]
    },
    {
      "cell_type": "markdown",
      "metadata": {
        "id": "NS_vE1VOYJp7"
      },
      "source": [
        "So finally we were able to get the flux, a list of products between reviews and minstay. Lets involve accomodates as well now."
      ]
    },
    {
      "cell_type": "code",
      "metadata": {
        "id": "DJTh7610bFH5"
      },
      "source": [
        "bflux=[bjan,j]\n",
        "bjf=pd.concat(bflux, axis=1)"
      ],
      "execution_count": null,
      "outputs": []
    },
    {
      "cell_type": "code",
      "metadata": {
        "colab": {
          "base_uri": "https://localhost:8080/",
          "height": 206
        },
        "id": "kT4WNZN-SDsQ",
        "outputId": "6f15b94a-e651-4d7f-b64f-2232c4e54e98"
      },
      "source": [
        "j.head()"
      ],
      "execution_count": null,
      "outputs": [
        {
          "output_type": "execute_result",
          "data": {
            "text/html": [
              "<div>\n",
              "<style scoped>\n",
              "    .dataframe tbody tr th:only-of-type {\n",
              "        vertical-align: middle;\n",
              "    }\n",
              "\n",
              "    .dataframe tbody tr th {\n",
              "        vertical-align: top;\n",
              "    }\n",
              "\n",
              "    .dataframe thead th {\n",
              "        text-align: right;\n",
              "    }\n",
              "</style>\n",
              "<table border=\"1\" class=\"dataframe\">\n",
              "  <thead>\n",
              "    <tr style=\"text-align: right;\">\n",
              "      <th></th>\n",
              "      <th>flux</th>\n",
              "    </tr>\n",
              "  </thead>\n",
              "  <tbody>\n",
              "    <tr>\n",
              "      <th>1</th>\n",
              "      <td>336.0</td>\n",
              "    </tr>\n",
              "    <tr>\n",
              "      <th>2</th>\n",
              "      <td>360.0</td>\n",
              "    </tr>\n",
              "    <tr>\n",
              "      <th>3</th>\n",
              "      <td>304.0</td>\n",
              "    </tr>\n",
              "    <tr>\n",
              "      <th>4</th>\n",
              "      <td>8.0</td>\n",
              "    </tr>\n",
              "    <tr>\n",
              "      <th>5</th>\n",
              "      <td>0.0</td>\n",
              "    </tr>\n",
              "  </tbody>\n",
              "</table>\n",
              "</div>"
            ],
            "text/plain": [
              "    flux\n",
              "1  336.0\n",
              "2  360.0\n",
              "3  304.0\n",
              "4    8.0\n",
              "5    0.0"
            ]
          },
          "metadata": {
            "tags": []
          },
          "execution_count": 9
        }
      ]
    },
    {
      "cell_type": "code",
      "metadata": {
        "colab": {
          "base_uri": "https://localhost:8080/",
          "height": 313
        },
        "id": "kiRiD_NiSiGr",
        "outputId": "e39ecc80-9103-425a-ba26-9baa54007a4e"
      },
      "source": [
        "bjf.head()"
      ],
      "execution_count": null,
      "outputs": [
        {
          "output_type": "execute_result",
          "data": {
            "text/html": [
              "<div>\n",
              "<style scoped>\n",
              "    .dataframe tbody tr th:only-of-type {\n",
              "        vertical-align: middle;\n",
              "    }\n",
              "\n",
              "    .dataframe tbody tr th {\n",
              "        vertical-align: top;\n",
              "    }\n",
              "\n",
              "    .dataframe thead th {\n",
              "        text-align: right;\n",
              "    }\n",
              "</style>\n",
              "<table border=\"1\" class=\"dataframe\">\n",
              "  <thead>\n",
              "    <tr style=\"text-align: right;\">\n",
              "      <th></th>\n",
              "      <th>room_id</th>\n",
              "      <th>host_id</th>\n",
              "      <th>room_type</th>\n",
              "      <th>borough</th>\n",
              "      <th>neighborhood</th>\n",
              "      <th>reviews</th>\n",
              "      <th>overall_satisfaction</th>\n",
              "      <th>accommodates</th>\n",
              "      <th>bedrooms</th>\n",
              "      <th>price</th>\n",
              "      <th>minstay</th>\n",
              "      <th>latitude</th>\n",
              "      <th>longitude</th>\n",
              "      <th>last_modified</th>\n",
              "      <th>flux</th>\n",
              "    </tr>\n",
              "  </thead>\n",
              "  <tbody>\n",
              "    <tr>\n",
              "      <th>1</th>\n",
              "      <td>613719</td>\n",
              "      <td>970426.0</td>\n",
              "      <td>Entire home/apt</td>\n",
              "      <td>NaN</td>\n",
              "      <td>Beacon Hill</td>\n",
              "      <td>12</td>\n",
              "      <td>4.5</td>\n",
              "      <td>4.0</td>\n",
              "      <td>1.0</td>\n",
              "      <td>180.0</td>\n",
              "      <td>7.0</td>\n",
              "      <td>42.358973</td>\n",
              "      <td>-71.067036</td>\n",
              "      <td>2016-01-16 14:20:01.317710</td>\n",
              "      <td>336.0</td>\n",
              "    </tr>\n",
              "    <tr>\n",
              "      <th>2</th>\n",
              "      <td>1724900</td>\n",
              "      <td>7723912.0</td>\n",
              "      <td>Entire home/apt</td>\n",
              "      <td>NaN</td>\n",
              "      <td>Roslindale</td>\n",
              "      <td>18</td>\n",
              "      <td>4.5</td>\n",
              "      <td>4.0</td>\n",
              "      <td>2.0</td>\n",
              "      <td>146.0</td>\n",
              "      <td>5.0</td>\n",
              "      <td>42.282905</td>\n",
              "      <td>-71.132677</td>\n",
              "      <td>2016-01-16 14:19:51.321258</td>\n",
              "      <td>360.0</td>\n",
              "    </tr>\n",
              "    <tr>\n",
              "      <th>3</th>\n",
              "      <td>3727560</td>\n",
              "      <td>19036819.0</td>\n",
              "      <td>Private room</td>\n",
              "      <td>NaN</td>\n",
              "      <td>Roxbury</td>\n",
              "      <td>76</td>\n",
              "      <td>4.5</td>\n",
              "      <td>2.0</td>\n",
              "      <td>1.0</td>\n",
              "      <td>70.0</td>\n",
              "      <td>2.0</td>\n",
              "      <td>42.329231</td>\n",
              "      <td>-71.079758</td>\n",
              "      <td>2016-01-16 14:19:41.577866</td>\n",
              "      <td>304.0</td>\n",
              "    </tr>\n",
              "    <tr>\n",
              "      <th>4</th>\n",
              "      <td>8309604</td>\n",
              "      <td>4127253.0</td>\n",
              "      <td>Entire home/apt</td>\n",
              "      <td>NaN</td>\n",
              "      <td>Back Bay</td>\n",
              "      <td>1</td>\n",
              "      <td>5.0</td>\n",
              "      <td>4.0</td>\n",
              "      <td>2.0</td>\n",
              "      <td>290.0</td>\n",
              "      <td>2.0</td>\n",
              "      <td>42.348327</td>\n",
              "      <td>-71.073732</td>\n",
              "      <td>2016-01-16 14:19:26.414634</td>\n",
              "      <td>8.0</td>\n",
              "    </tr>\n",
              "    <tr>\n",
              "      <th>5</th>\n",
              "      <td>8761060</td>\n",
              "      <td>45942466.0</td>\n",
              "      <td>Private room</td>\n",
              "      <td>NaN</td>\n",
              "      <td>Mattapan</td>\n",
              "      <td>0</td>\n",
              "      <td>NaN</td>\n",
              "      <td>3.0</td>\n",
              "      <td>1.0</td>\n",
              "      <td>100.0</td>\n",
              "      <td>1.0</td>\n",
              "      <td>42.276161</td>\n",
              "      <td>-71.075306</td>\n",
              "      <td>2016-01-16 14:19:17.299072</td>\n",
              "      <td>0.0</td>\n",
              "    </tr>\n",
              "  </tbody>\n",
              "</table>\n",
              "</div>"
            ],
            "text/plain": [
              "   room_id     host_id  ...               last_modified   flux\n",
              "1   613719    970426.0  ...  2016-01-16 14:20:01.317710  336.0\n",
              "2  1724900   7723912.0  ...  2016-01-16 14:19:51.321258  360.0\n",
              "3  3727560  19036819.0  ...  2016-01-16 14:19:41.577866  304.0\n",
              "4  8309604   4127253.0  ...  2016-01-16 14:19:26.414634    8.0\n",
              "5  8761060  45942466.0  ...  2016-01-16 14:19:17.299072    0.0\n",
              "\n",
              "[5 rows x 15 columns]"
            ]
          },
          "metadata": {
            "tags": []
          },
          "execution_count": 10
        }
      ]
    },
    {
      "cell_type": "markdown",
      "metadata": {
        "id": "LyulPVlJU_UT"
      },
      "source": [
        "Perfect! we have our required flux. Moreover, there is no NaN value in flux column. Lets make heat map now in folium maps."
      ]
    },
    {
      "cell_type": "code",
      "metadata": {
        "id": "QDvN_rYjjNMq"
      },
      "source": [
        "bjf1=bjf[['room_id','host_id','neighborhood','flux','price','latitude','longitude']]"
      ],
      "execution_count": null,
      "outputs": []
    },
    {
      "cell_type": "code",
      "metadata": {
        "id": "zPlqfc8Okdhx",
        "colab": {
          "base_uri": "https://localhost:8080/",
          "height": 206
        },
        "outputId": "ff0e55da-e687-4614-bc60-f3b4af900bec"
      },
      "source": [
        "bjf1.head()"
      ],
      "execution_count": null,
      "outputs": [
        {
          "output_type": "execute_result",
          "data": {
            "text/html": [
              "<div>\n",
              "<style scoped>\n",
              "    .dataframe tbody tr th:only-of-type {\n",
              "        vertical-align: middle;\n",
              "    }\n",
              "\n",
              "    .dataframe tbody tr th {\n",
              "        vertical-align: top;\n",
              "    }\n",
              "\n",
              "    .dataframe thead th {\n",
              "        text-align: right;\n",
              "    }\n",
              "</style>\n",
              "<table border=\"1\" class=\"dataframe\">\n",
              "  <thead>\n",
              "    <tr style=\"text-align: right;\">\n",
              "      <th></th>\n",
              "      <th>room_id</th>\n",
              "      <th>host_id</th>\n",
              "      <th>neighborhood</th>\n",
              "      <th>flux</th>\n",
              "      <th>price</th>\n",
              "      <th>latitude</th>\n",
              "      <th>longitude</th>\n",
              "    </tr>\n",
              "  </thead>\n",
              "  <tbody>\n",
              "    <tr>\n",
              "      <th>1</th>\n",
              "      <td>613719</td>\n",
              "      <td>970426.0</td>\n",
              "      <td>Beacon Hill</td>\n",
              "      <td>336.0</td>\n",
              "      <td>180.0</td>\n",
              "      <td>42.358973</td>\n",
              "      <td>-71.067036</td>\n",
              "    </tr>\n",
              "    <tr>\n",
              "      <th>2</th>\n",
              "      <td>1724900</td>\n",
              "      <td>7723912.0</td>\n",
              "      <td>Roslindale</td>\n",
              "      <td>360.0</td>\n",
              "      <td>146.0</td>\n",
              "      <td>42.282905</td>\n",
              "      <td>-71.132677</td>\n",
              "    </tr>\n",
              "    <tr>\n",
              "      <th>3</th>\n",
              "      <td>3727560</td>\n",
              "      <td>19036819.0</td>\n",
              "      <td>Roxbury</td>\n",
              "      <td>304.0</td>\n",
              "      <td>70.0</td>\n",
              "      <td>42.329231</td>\n",
              "      <td>-71.079758</td>\n",
              "    </tr>\n",
              "    <tr>\n",
              "      <th>4</th>\n",
              "      <td>8309604</td>\n",
              "      <td>4127253.0</td>\n",
              "      <td>Back Bay</td>\n",
              "      <td>8.0</td>\n",
              "      <td>290.0</td>\n",
              "      <td>42.348327</td>\n",
              "      <td>-71.073732</td>\n",
              "    </tr>\n",
              "    <tr>\n",
              "      <th>5</th>\n",
              "      <td>8761060</td>\n",
              "      <td>45942466.0</td>\n",
              "      <td>Mattapan</td>\n",
              "      <td>0.0</td>\n",
              "      <td>100.0</td>\n",
              "      <td>42.276161</td>\n",
              "      <td>-71.075306</td>\n",
              "    </tr>\n",
              "  </tbody>\n",
              "</table>\n",
              "</div>"
            ],
            "text/plain": [
              "   room_id     host_id neighborhood   flux  price   latitude  longitude\n",
              "1   613719    970426.0  Beacon Hill  336.0  180.0  42.358973 -71.067036\n",
              "2  1724900   7723912.0   Roslindale  360.0  146.0  42.282905 -71.132677\n",
              "3  3727560  19036819.0      Roxbury  304.0   70.0  42.329231 -71.079758\n",
              "4  8309604   4127253.0     Back Bay    8.0  290.0  42.348327 -71.073732\n",
              "5  8761060  45942466.0     Mattapan    0.0  100.0  42.276161 -71.075306"
            ]
          },
          "metadata": {
            "tags": []
          },
          "execution_count": 13
        }
      ]
    },
    {
      "cell_type": "code",
      "metadata": {
        "id": "DuVHmzFKku1O",
        "colab": {
          "base_uri": "https://localhost:8080/",
          "height": 542
        },
        "outputId": "be5594d9-4ee3-44ca-dc32-06e46892c89d"
      },
      "source": [
        "import plotly.express as px\n",
        "fig = px.density_mapbox(bjf1, lat='latitude', lon='longitude', z='flux', radius=13,\n",
        "                        center=dict(lat=42.340674 , lon=-71.082529), zoom=11,\n",
        "                        mapbox_style=\"stamen-terrain\")\n",
        "fig.show()\n"
      ],
      "execution_count": null,
      "outputs": [
        {
          "output_type": "display_data",
          "data": {
            "text/html": [
              "<html>\n",
              "<head><meta charset=\"utf-8\" /></head>\n",
              "<body>\n",
              "    <div>\n",
              "            <script src=\"https://cdnjs.cloudflare.com/ajax/libs/mathjax/2.7.5/MathJax.js?config=TeX-AMS-MML_SVG\"></script><script type=\"text/javascript\">if (window.MathJax) {MathJax.Hub.Config({SVG: {font: \"STIX-Web\"}});}</script>\n",
              "                <script type=\"text/javascript\">window.PlotlyConfig = {MathJaxConfig: 'local'};</script>\n",
              "        <script src=\"https://cdn.plot.ly/plotly-latest.min.js\"></script>    \n",
              "            <div id=\"3af47854-8b03-4bea-9c5b-3ad2e91c66be\" class=\"plotly-graph-div\" style=\"height:525px; width:100%;\"></div>\n",
              "            <script type=\"text/javascript\">\n",
              "                \n",
              "                    window.PLOTLYENV=window.PLOTLYENV || {};\n",
              "                    \n",
              "                if (document.getElementById(\"3af47854-8b03-4bea-9c5b-3ad2e91c66be\")) {\n",
              "                    Plotly.newPlot(\n",
              "                        '3af47854-8b03-4bea-9c5b-3ad2e91c66be',\n",
              "                        [{\"coloraxis\": \"coloraxis\", \"hoverlabel\": {\"namelength\": 0}, \"hovertemplate\": \"flux=%{z}<br>latitude=%{lat}<br>longitude=%{lon}\", \"lat\": [42.358973, 42.282905, 42.329231, 42.348327000000005, 42.276161, 42.298471, 42.344025, 42.34316, 42.356271, 42.358245000000004, 42.326309, 42.315903999999996, 42.3594, 42.344207, 42.282086, 42.327492, 42.331554, 42.354921000000004, 42.347657, 42.318139, 42.334029, 42.363887, 42.344476, 42.352881, 42.364399, 42.343462, 42.363603999999995, 42.342220000000005, 42.345490999999996, 42.350935, 42.348877, 42.360541, 42.348138, 42.352311, 42.310009, 42.340838, 42.345356, 42.300264, 42.358763, 42.360528, 42.359774, 42.352242, 42.342287, 42.350582, 42.382267999999996, 42.308219, 42.3464, 42.353186, 42.343753, 42.317533000000005, 42.284392, 42.316806, 42.341884, 42.340641, 42.365840000000006, 42.356716, 42.342017999999996, 42.331348999999996, 42.341260999999996, 42.361376, 42.310805, 42.355017, 42.347846000000004, 42.337503000000005, 42.340571000000004, 42.338128000000005, 42.317556, 42.345667999999996, 42.338283000000004, 42.329527, 42.314178000000005, 42.345067, 42.355222999999995, 42.358818, 42.343508, 42.351032000000004, 42.359369, 42.363615, 42.349084999999995, 42.376495, 42.357213, 42.310125, 42.346323999999996, 42.336853000000005, 42.309357, 42.343621, 42.341798, 42.290890999999995, 42.310502, 42.33721, 42.364847, 42.343841999999995, 42.313792, 42.343493, 42.348182, 42.340149, 42.33442, 42.343438, 42.362194, 42.319121, 42.349457, 42.359684, 42.3514, 42.362583, 42.349016999999996, 42.334838, 42.302487, 42.342252, 42.311679, 42.339209000000004, 42.356346, 42.351206, 42.350617, 42.36031, 42.343792, 42.361740000000005, 42.344035999999996, 42.367581, 42.341986999999996, 42.331927, 42.330251000000004, 42.349988, 42.361258, 42.358729, 42.320166, 42.309701000000004, 42.364359, 42.352783, 42.289671000000006, 42.345636999999996, 42.331631, 42.359642, 42.347319, 42.35528, 42.365190000000005, 42.316108, 42.346489, 42.306943, 42.353071, 42.299824, 42.347946, 42.389828, 42.356449, 42.361534999999996, 42.366547, 42.333682, 42.358872, 42.354123, 42.363803000000004, 42.346940999999994, 42.341440999999996, 42.335159000000004, 42.274408, 42.324891, 42.296405, 42.310864, 42.356823, 42.340551, 42.344125, 42.34547, 42.362823999999996, 42.341840999999995, 42.30838, 42.341113, 42.355321, 42.339589000000004, 42.350623999999996, 42.340861, 42.358971999999994, 42.350525, 42.341425, 42.349367, 42.343641999999996, 42.353004999999996, 42.343246, 42.304843, 42.347071, 42.317387, 42.389210999999996, 42.35143, 42.359078000000004, 42.344227000000004, 42.338231, 42.343127, 42.366234999999996, 42.316759999999995, 42.331908, 42.351442999999996, 42.343317, 42.322803, 42.334678000000004, 42.271763, 42.349352, 42.341763, 42.307202000000004, 42.298159999999996, 42.359026, 42.359279, 42.339233, 42.345134, 42.338741999999996, 42.330829, 42.288258, 42.326959, 42.322393, 42.34368, 42.311582, 42.355305, 42.350051, 42.350844, 42.347962, 42.368583, 42.341527, 42.31865, 42.360473, 42.337872999999995, 42.307815999999995, 42.347733000000005, 42.350955, 42.334267, 42.309329, 42.352009, 42.335336, 42.346521, 42.358198, 42.363439, 42.335365, 42.348512, 42.346686, 42.365663, 42.327775, 42.337771000000004, 42.350192, 42.344718, 42.279648, 42.337457, 42.341262, 42.345216, 42.350477000000005, 42.330349, 42.288563, 42.335331, 42.332484, 42.336836, 42.346218, 42.350543, 42.327535, 42.285539, 42.354171, 42.317797999999996, 42.351341999999995, 42.339651, 42.318977000000004, 42.334773999999996, 42.329941, 42.334213, 42.348807, 42.277008, 42.362934, 42.380182, 42.343299, 42.330248, 42.318371, 42.319818, 42.285878000000004, 42.354254, 42.386187, 42.352727, 42.344507, 42.303982, 42.362086, 42.343222, 42.317254999999996, 42.297805, 42.343429, 42.333818, 42.349160999999995, 42.304559000000005, 42.336795, 42.341602, 42.34299, 42.291371999999996, 42.358228999999994, 42.346058, 42.316272999999995, 42.342755, 42.344756, 42.333558000000004, 42.358119, 42.36782, 42.345315, 42.365080999999996, 42.296878, 42.318687, 42.349361, 42.345009000000005, 42.349471, 42.349329, 42.338869, 42.287026000000004, 42.317134, 42.349084000000005, 42.332246000000005, 42.359866, 42.361157, 42.345385, 42.342218, 42.355917, 42.349415, 42.351791999999996, 42.344722999999995, 42.360079, 42.365905, 42.341719, 42.359945, 42.311485, 42.343129, 42.358659, 42.356034, 42.34693, 42.352956, 42.32293, 42.342374, 42.358505, 42.324653000000005, 42.350114000000005, 42.339812, 42.344745, 42.360881, 42.340665, 42.347955999999996, 42.343990999999995, 42.31568, 42.358375, 42.350724, 42.34579, 42.331965999999994, 42.369203999999996, 42.360015000000004, 42.349509999999995, 42.3613, 42.35893, 42.354481, 42.346214, 42.364847, 42.34838, 42.331790999999996, 42.352004, 42.312146999999996, 42.34186, 42.355059000000004, 42.300734000000006, 42.352346999999995, 42.377227000000005, 42.350614, 42.352464000000005, 42.364507, 42.344524, 42.338072, 42.345262, 42.355887, 42.340527, 42.34466, 42.350685, 42.332763, 42.289813, 42.377678, 42.324514, 42.325511999999996, 42.350471999999996, 42.363706, 42.339621, 42.365728000000004, 42.348542, 42.344324, 42.342929999999996, 42.310075, 42.334348, 42.371534000000004, 42.365586, 42.380233000000004, 42.342907000000004, 42.343049, 42.365165999999995, 42.332796, 42.343241, 42.359269, 42.345483, 42.347725, 42.364004, 42.352672999999996, 42.312186, 42.256190000000004, 42.333087, 42.33863, 42.36671, 42.365707, 42.344638, 42.311618, 42.341008, 42.339309, 42.348193, 42.342791, 42.30905, 42.345003000000005, 42.328213, 42.295549, 42.360203999999996, 42.35288, 42.343864, 42.344642, 42.28217, 42.341657, 42.344879, 42.282534999999996, 42.353285, 42.348778, 42.313392, 42.340656, 42.349462, 42.345966, 42.344922, 42.343837, 42.343488, 42.345667999999996, 42.35317, 42.27335, 42.285314, 42.311531, 42.354428999999996, 42.304539, 42.360718, 42.312269, 42.288185999999996, 42.298124, 42.36421, 42.298876, 42.336278, 42.361728, 42.35924, 42.346746, 42.333690999999995, 42.343305, 42.365783, 42.331587, 42.341048, 42.337082, 42.342586, 42.351139, 42.371736999999996, 42.360809, 42.353113, 42.336116, 42.305169, 42.345859000000004, 42.358666, 42.323083000000004, 42.34321, 42.314859999999996, 42.350339, 42.352196, 42.311896999999995, 42.343641999999996, 42.344988, 42.244563, 42.357644, 42.357152, 42.312765999999996, 42.380660999999996, 42.286915, 42.294901, 42.351052, 42.366628000000006, 42.336938, 42.293626, 42.345257000000004, 42.327017, 42.31962, 42.351271000000004, 42.286241, 42.355948, 42.359965, 42.348399, 42.360908, 42.349851, 42.366884999999996, 42.353451, 42.366276, 42.346238, 42.352045000000004, 42.348653999999996, 42.340968, 42.341131, 42.35568, 42.348733, 42.330121999999996, 42.313033000000004, 42.318719, 42.344677000000004, 42.329809000000004, 42.342858, 42.344457, 42.337401, 42.284361, 42.340582, 42.349761, 42.362629, 42.349006, 42.365956, 42.345003000000005, 42.378724, 42.347893, 42.332405, 42.350648, 42.359449, 42.342424, 42.330664, 42.345775, 42.343945, 42.282441999999996, 42.34708, 42.353218, 42.31997, 42.360446, 42.349314, 42.317756, 42.349681, 42.359066999999996, 42.323343, 42.358391999999995, 42.320044, 42.361779999999996, 42.328192, 42.344996, 42.311438, 42.338453, 42.344898, 42.37728, 42.360982, 42.320809999999994, 42.363812, 42.347262, 42.356484, 42.34799, 42.357766999999996, 42.343749, 42.308053, 42.356907, 42.335473, 42.34455, 42.357845000000005, 42.318126, 42.365825, 42.338956, 42.296709, 42.349754, 42.349734000000005, 42.339477, 42.308837, 42.346233000000005, 42.354765, 42.280528000000004, 42.343872999999995, 42.312996999999996, 42.360175, 42.361078000000006, 42.358357, 42.342971, 42.298257, 42.381594, 42.349768, 42.351589000000004, 42.349515999999994, 42.376385, 42.344543, 42.33814, 42.336059000000006, 42.338542, 42.3371, 42.323096, 42.366327000000005, 42.336327000000004, 42.339383000000005, 42.342967, 42.348007, 42.316016999999995, 42.309449, 42.308262, 42.345126, 42.36696, 42.339559, 42.38736, 42.32953, 42.335995000000004, 42.326108000000005, 42.343247999999996, 42.325789, 42.350763, 42.353975, 42.357742, 42.308293, 42.345687, 42.335398, 42.363978, 42.349994, 42.358803, 42.34987, 42.344654999999996, 42.389982, 42.336833, 42.28139, 42.359749, 42.33851, 42.34513, 42.343098, 42.352983, 42.346455, 42.360651000000004, 42.355365, 42.310082, 42.344011, 42.349616, 42.358675, 42.347767, 42.350471999999996, 42.386619, 42.346193, 42.350315, 42.318709999999996, 42.331858000000004, 42.343441, 42.348511, 42.358743, 42.357384, 42.313624, 42.308852, 42.34178, 42.298349, 42.351841, 42.365763, 42.367395, 42.373789, 42.353552, 42.262246999999995, 42.313036, 42.303763000000004, 42.339345, 42.351409000000004, 42.313924, 42.346657, 42.292438, 42.299098, 42.357307, 42.341213, 42.300883, 42.322355, 42.29858, 42.361273, 42.350699, 42.343271, 42.349353, 42.343877, 42.353266, 42.361079, 42.322596999999995, 42.350307, 42.347726, 42.315476000000004, 42.365619, 42.377855, 42.34982, 42.359962, 42.330709999999996, 42.33644, 42.362964, 42.31457, 42.315090000000005, 42.35143, 42.282282, 42.337264000000005, 42.386059, 42.343219, 42.338982, 42.340368, 42.356144, 42.286577, 42.345062, 42.379922, 42.335693, 42.336015, 42.378273, 42.296837, 42.314827, 42.351064, 42.270427000000005, 42.290302000000004, 42.312548, 42.349529, 42.275636999999996, 42.304424, 42.3798, 42.376435, 42.346134, 42.361191999999996, 42.358078000000006, 42.314344, 42.318469, 42.339796, 42.352934999999995, 42.356885999999996, 42.359525, 42.349779999999996, 42.291107000000004, 42.319617, 42.36313, 42.34437, 42.308332, 42.356849, 42.361357, 42.338639, 42.311181, 42.331261, 42.343299, 42.382578, 42.345991, 42.376033, 42.35302, 42.349407, 42.353114, 42.277824, 42.350821999999994, 42.35978, 42.383299, 42.365967, 42.365469, 42.338077, 42.33572, 42.342796, 42.315769, 42.309074, 42.333165, 42.33723, 42.350829, 42.359854999999996, 42.343938, 42.361641, 42.352612, 42.379327, 42.341752, 42.317714, 42.365091, 42.359345000000005, 42.341457, 42.366417, 42.325614, 42.36796, 42.364359, 42.352994, 42.339393, 42.281942, 42.340002, 42.358128, 42.251618, 42.348448, 42.357935999999995, 42.327409, 42.336171, 42.35387, 42.278968, 42.355088, 42.343944, 42.32162, 42.343733, 42.342388, 42.356742, 42.331007, 42.334907, 42.295365999999994, 42.31946, 42.352832, 42.299772999999995, 42.37843, 42.349513, 42.351352, 42.345517, 42.365658, 42.340423, 42.343396000000006, 42.3799, 42.344926, 42.308105, 42.341276, 42.351393, 42.363559, 42.363479999999996, 42.351752000000005, 42.351456, 42.341792, 42.376397, 42.352445, 42.346554, 42.377796000000004, 42.344899, 42.368209, 42.350194, 42.318039, 42.332028, 42.331111, 42.281749, 42.328534000000005, 42.344889, 42.331744, 42.329541, 42.317997, 42.352014000000004, 42.325096, 42.358391, 42.344221999999995, 42.314036, 42.317052000000004, 42.343348, 42.331121, 42.352169, 42.345938000000004, 42.359908000000004, 42.286561, 42.339501, 42.345028000000006, 42.292951, 42.357568, 42.358931, 42.350497999999995, 42.33767, 42.365390000000005, 42.309333, 42.346795, 42.361532000000004, 42.358892, 42.332974, 42.369240999999995, 42.344865000000006, 42.296205, 42.34973, 42.272188, 42.353835, 42.340921, 42.343402000000005, 42.28556, 42.329976, 42.358543, 42.35091, 42.354057, 42.361051, 42.348974, 42.350028, 42.353825, 42.343995, 42.343265, 42.344848999999996, 42.31289, 42.351071999999995, 42.359576000000004, 42.375883, 42.379946000000004, 42.352452, 42.360312, 42.360958000000004, 42.312466, 42.337788, 42.299588, 42.346026, 42.255528999999996, 42.29772, 42.319046, 42.347926, 42.33676, 42.343561, 42.3585, 42.374966, 42.345706, 42.298224, 42.344572, 42.343095, 42.35188, 42.317786, 42.343471, 42.379801, 42.35566, 42.284512, 42.362309, 42.364796999999996, 42.344877000000004, 42.344673, 42.335902000000004, 42.338626, 42.341797, 42.324874, 42.338578000000005, 42.346933, 42.340323, 42.330318, 42.338765, 42.332325, 42.346886, 42.384686, 42.290503, 42.358028000000004, 42.330778, 42.343118, 42.361244, 42.317513, 42.311618, 42.318973, 42.353858, 42.347618, 42.31576, 42.344037, 42.349407, 42.297405, 42.342692, 42.365574, 42.342135, 42.366126, 42.352746, 42.32002, 42.367837, 42.305088, 42.319117999999996, 42.363177, 42.344999, 42.349757000000004, 42.352841, 42.330625, 42.319725, 42.318046, 42.334004, 42.366524, 42.356484, 42.360991999999996, 42.358926000000004, 42.353398, 42.337648, 42.344839, 42.345251, 42.287936, 42.313340999999994, 42.347153000000006, 42.344909, 42.341162, 42.381541, 42.361232, 42.309312, 42.342998, 42.315565, 42.334358, 42.359635, 42.353449, 42.347485, 42.365913, 42.35839, 42.356281, 42.348445, 42.343454, 42.346342, 42.340537, 42.346866999999996, 42.361306, 42.350451, 42.343162, 42.344625, 42.288807, 42.360748, 42.356861, 42.36483, 42.350922, 42.343866, 42.334241999999996, 42.365424, 42.308783, 42.353840000000005, 42.341856, 42.365123, 42.350308, 42.348991999999996, 42.327459000000005, 42.357795, 42.350417, 42.353685, 42.340565999999995, 42.344171, 42.332588, 42.377949, 42.364667, 42.381269, 42.364907, 42.349540999999995, 42.35519, 42.330690000000004, 42.34163, 42.332484, 42.335193, 42.325117999999996, 42.343070000000004, 42.336855, 42.326570000000004, 42.366393, 42.345822999999996, 42.340552, 42.344837, 42.321646, 42.375254999999996, 42.341954, 42.373346000000005, 42.375107, 42.327829, 42.332817999999996, 42.351368, 42.356324, 42.34316, 42.342985999999996, 42.344382, 42.358401, 42.248662, 42.343894, 42.341212, 42.359428, 42.3484, 42.350232, 42.332854, 42.34864, 42.377184, 42.349985, 42.344722, 42.280096, 42.345948, 42.364608000000004, 42.332489, 42.304061, 42.352024, 42.335384000000005, 42.377833, 42.347171, 42.281923, 42.359206, 42.383021, 42.360836, 42.349063, 42.367098, 42.349552, 42.360627, 42.305713, 42.289238, 42.312061, 42.329743, 42.358596, 42.350269, 42.341526, 42.244045, 42.344206, 42.344945, 42.303985, 42.36949, 42.342057000000004, 42.368663, 42.355071, 42.345679, 42.336813, 42.360194, 42.367494, 42.380410999999995, 42.353291999999996, 42.360433, 42.37755, 42.323570000000004, 42.287194, 42.277378000000006, 42.352545, 42.358779999999996, 42.360709, 42.360261, 42.351886, 42.354224, 42.332132, 42.341836, 42.314909, 42.357729, 42.34394, 42.34514, 42.329651, 42.369023, 42.337229, 42.346543, 42.338316999999996, 42.2668, 42.344759, 42.378334, 42.359291, 42.346090999999994, 42.360724, 42.343047999999996, 42.34883, 42.354048, 42.342582, 42.350905, 42.381609000000005, 42.337491, 42.32642, 42.352179, 42.311607, 42.362351000000004, 42.370519, 42.316663, 42.344774, 42.293428000000006, 42.327197999999996, 42.352092, 42.33674, 42.354521999999996, 42.358693, 42.308142, 42.355114, 42.345849, 42.344746, 42.341344, 42.357115, 42.346108, 42.345568, 42.351448, 42.345171, 42.380377, 42.31452, 42.356693, 42.3448, 42.337666999999996, 42.336898, 42.338311, 42.344066, 42.305095, 42.364277, 42.335887, 42.337468, 42.343376, 42.32598, 42.3092, 42.319794, 42.34697, 42.361281, 42.351921999999995, 42.324921, 42.305034, 42.321628000000004, 42.349299, 42.355242, 42.363782, 42.359603, 42.331866999999995, 42.330048, 42.332119, 42.344707, 42.309632, 42.315301, 42.358669, 42.336949, 42.349618, 42.358993, 42.341406, 42.311961, 42.361276000000004, 42.361094, 42.345539, 42.353309, 42.344826, 42.322216, 42.290185, 42.359355, 42.345371, 42.347287, 42.275715999999996, 42.354054, 42.345366, 42.345352, 42.359302, 42.348631, 42.34496, 42.353096, 42.349838, 42.358859, 42.339794, 42.342812, 42.319171000000004, 42.351934, 42.348, 42.318422999999996, 42.308948, 42.365029, 42.350167, 42.334045, 42.379585, 42.316912, 42.312471, 42.353491999999996, 42.352914, 42.333704, 42.247059, 42.354029, 42.344057, 42.349478999999995, 42.325542999999996, 42.325136, 42.342757, 42.332732, 42.295244, 42.346326, 42.319511, 42.345223, 42.298491, 42.345484, 42.343087, 42.356404, 42.363197, 42.351915999999996, 42.364867, 42.348845000000004, 42.338221999999995, 42.354832, 42.336282000000004, 42.346852, 42.357892, 42.340992, 42.348442999999996, 42.335895, 42.338018, 42.363946999999996, 42.373509999999996, 42.363456, 42.290904, 42.346433000000005, 42.356239, 42.352278000000005, 42.342745, 42.356755, 42.35049, 42.349047, 42.363191, 42.345115, 42.334755, 42.255338, 42.344442, 42.34401, 42.347232, 42.331339, 42.335285999999996, 42.329607, 42.340369, 42.354621, 42.341713, 42.328257, 42.366225, 42.329995000000004, 42.315056, 42.361087, 42.334359, 42.345690999999995, 42.348896, 42.376948999999996, 42.333693, 42.314895, 42.343123999999996, 42.352224, 42.315444, 42.277537, 42.337451, 42.351602, 42.3462, 42.358412, 42.350193, 42.298010999999995, 42.29152, 42.343804, 42.347659, 42.346821999999996, 42.362373999999996, 42.329527, 42.325138, 42.338041, 42.343517, 42.354375, 42.360519000000004, 42.345603000000004, 42.343624, 42.335511, 42.34995, 42.347746, 42.347901, 42.345069, 42.33826, 42.354375, 42.346509000000005, 42.378533000000004, 42.350217, 42.330355, 42.340395, 42.336659999999995, 42.364467, 42.366816, 42.345296000000005, 42.316437, 42.342696999999994, 42.315099, 42.356306, 42.3195, 42.356101, 42.349964, 42.361143, 42.279208000000004, 42.350419, 42.337137, 42.331603, 42.354498, 42.366384000000004, 42.360329, 42.291288, 42.343272, 42.346751, 42.34775, 42.350576000000004, 42.352571000000005, 42.355883, 42.325545, 42.345573, 42.353401, 42.366695, 42.315274, 42.299186999999996, 42.309219, 42.36493, 42.272785, 42.344073, 42.343492, 42.363954, 42.333599, 42.35079, 42.337437, 42.347726, 42.328866999999995, 42.344186, 42.364112, 42.332526, 42.310187, 42.345519, 42.324647999999996, 42.351545, 42.38224, 42.283705, 42.340053000000005, 42.317966, 42.360026, 42.358241, 42.376573, 42.350834000000006, 42.242005, 42.357325, 42.330725, 42.355936, 42.35846, 42.316253, 42.320429, 42.297032, 42.355729, 42.292491, 42.350468, 42.341059, 42.338524, 42.343767, 42.344677000000004, 42.337892, 42.353808, 42.322747, 42.360838, 42.365392, 42.311659999999996, 42.392161, 42.358346000000004, 42.290407, 42.345817, 42.289653, 42.328753999999996, 42.337627000000005, 42.276831, 42.352196, 42.306539, 42.358314, 42.323276, 42.281452, 42.388509, 42.348663, 42.338531, 42.304451, 42.353852, 42.293473, 42.346909000000004, 42.376154, 42.35692, 42.292730999999996, 42.345253, 42.305712, 42.309977, 42.295593, 42.390665999999996, 42.364188, 42.345411999999996, 42.35502, 42.382160999999996, 42.343799, 42.349158, 42.345414, 42.333414000000005, 42.351269, 42.330703, 42.336756, 42.349407, 42.270662, 42.346037, 42.301262, 42.382742, 42.355864000000004, 42.331459, 42.331973, 42.349251, 42.33093, 42.347844, 42.290673, 42.309838, 42.332201, 42.307975, 42.336357, 42.36502, 42.34426, 42.342076, 42.336702, 42.350744, 42.316282, 42.346340999999995, 42.381223999999996, 42.36609, 42.365733, 42.295095, 42.351285, 42.282204, 42.284938000000004, 42.353344, 42.380139, 42.317478, 42.325089, 42.3534, 42.294563000000004, 42.354109, 42.333542, 42.272581, 42.318635, 42.35967, 42.347187, 42.350464, 42.360686, 42.361339, 42.345295, 42.340282, 42.344601000000004, 42.362565000000004, 42.36582, 42.307947999999996, 42.341086, 42.313727, 42.281141999999996, 42.358072, 42.349496, 42.34349, 42.357045, 42.343413, 42.344718, 42.325215, 42.334249, 42.337748, 42.344774, 42.324853000000004, 42.341309, 42.344260999999996, 42.341984000000004, 42.283184999999996, 42.310262, 42.349706, 42.31263, 42.344957, 42.357029, 42.337463, 42.307109999999994, 42.310395, 42.281698, 42.359843, 42.380410999999995, 42.294568, 42.295156, 42.364594, 42.343856, 42.332332, 42.32002, 42.318875, 42.358506, 42.359856, 42.360341999999996, 42.3491, 42.359952, 42.342896, 42.306018, 42.374169, 42.361022999999996, 42.353857, 42.326852, 42.348317, 42.346069, 42.329454, 42.361947, 42.343432, 42.299153999999994, 42.339965, 42.372409000000005, 42.343458, 42.312611, 42.330689, 42.345295, 42.36665, 42.289048, 42.320023, 42.366616, 42.361360999999995, 42.358825, 42.350265, 42.348495, 42.343434, 42.326163, 42.354912, 42.299964, 42.34341, 42.359473, 42.315694, 42.351876000000004, 42.350972999999996, 42.350359000000005, 42.364292999999996, 42.348773, 42.347511, 42.350716, 42.361228000000004, 42.308735999999996, 42.365362, 42.346188, 42.348978, 42.348075, 42.349474, 42.350567, 42.336777000000005, 42.333804, 42.343841, 42.343666999999996, 42.342698999999996, 42.344034, 42.364216, 42.340606, 42.347638, 42.358403, 42.338131, 42.319109000000005, 42.343626, 42.34093, 42.344768, 42.347814, 42.368531, 42.339372999999995, 42.272892, 42.311408, 42.3445, 42.350006, 42.286037, 42.332958000000005, 42.345197, 42.352441999999996, 42.38731, 42.309508, 42.342555, 42.347142, 42.358841, 42.364418, 42.277543, 42.346002, 42.384529, 42.340795, 42.365732, 42.306290000000004, 42.344557, 42.349985, 42.350739000000004, 42.344324, 42.353978000000005, 42.341936, 42.350421000000004, 42.332361, 42.337582, 42.343231, 42.319112, 42.344032, 42.347685999999996, 42.34884, 42.319631, 42.343105, 42.365829, 42.301462, 42.336571, 42.351855, 42.350577, 42.355025, 42.358514, 42.312715000000004, 42.354917, 42.340245, 42.348115, 42.344195, 42.340961, 42.365151000000004, 42.363408, 42.347274, 42.318783, 42.358573, 42.307355, 42.347988, 42.352641999999996, 42.363991999999996, 42.304952, 42.285369, 42.340669, 42.35651, 42.290724, 42.342940000000006, 42.289972, 42.325477, 42.317402, 42.343624, 42.350209, 42.375675, 42.361265, 42.321889, 42.358823, 42.325849, 42.313431, 42.364447999999996, 42.343392, 42.345052, 42.297709000000005, 42.306538, 42.354378000000004, 42.357559, 42.31258, 42.336436, 42.351274, 42.34523, 42.326093, 42.344724, 42.351938, 42.364824, 42.347373, 42.317159000000004, 42.375747, 42.360659999999996, 42.36752, 42.377895, 42.311992, 42.350194, 42.361928999999996, 42.379219, 42.317977, 42.35086, 42.345444, 42.332388, 42.345677, 42.360225, 42.357571, 42.359849, 42.365427000000004, 42.380714000000005, 42.342977000000005, 42.364729, 42.331756, 42.292631, 42.360921999999995, 42.35, 42.358584, 42.345046, 42.351901, 42.36016, 42.34818, 42.348631, 42.309502, 42.338812, 42.320018, 42.31765, 42.344791, 42.343922, 42.342038, 42.33124, 42.334552, 42.365688, 42.337163000000004, 42.289797, 42.342144, 42.325611, 42.313196999999995, 42.345584, 42.353491999999996, 42.34923, 42.271975, 42.311182, 42.34964, 42.352799, 42.33644, 42.351473999999996, 42.314238, 42.343665, 42.348242, 42.288447, 42.363911, 42.318577000000005, 42.311371, 42.332613, 42.351593, 42.340556, 42.337478999999995, 42.306928000000006, 42.298709, 42.288018, 42.318539, 42.34935, 42.344668, 42.348596, 42.289556, 42.376181, 42.359601, 42.340987, 42.340215, 42.342447, 42.336315, 42.321415, 42.343423, 42.345051, 42.345299, 42.383625, 42.336940999999996, 42.349672, 42.339593, 42.350547999999996, 42.345069, 42.338645, 42.282841999999995, 42.360715, 42.358981, 42.348065000000005, 42.290989, 42.346614, 42.344745, 42.263718, 42.316277, 42.345481, 42.351653999999996, 42.326142, 42.376551, 42.357442999999996, 42.360884999999996, 42.333535999999995, 42.341243, 42.338982, 42.346416999999995, 42.34556, 42.344582, 42.343534000000005, 42.34511, 42.344073, 42.341489, 42.343416, 42.353242, 42.353297999999995, 42.35285, 42.351195000000004, 42.353311, 42.352739, 42.353046, 42.352919, 42.350011, 42.335657, 42.352625, 42.334920000000004, 42.351380999999996, 42.336009999999995, 42.367695, 42.366465000000005, 42.366582, 42.364971000000004, 42.265665000000006, 42.303836, 42.333474, 42.351015000000004, 42.314215000000004, 42.348532, 42.363271000000005, 42.343552, 42.360564000000004, 42.360561, 42.358431, 42.353908000000004, 42.334981, 42.328846999999996, 42.360296000000005, 42.346727, 42.359359999999995, 42.383637, 42.340877, 42.319266999999996, 42.317215999999995, 42.306396, 42.320809000000004, 42.344423, 42.343405, 42.343728999999996, 42.344797, 42.343771999999994, 42.340767, 42.344403, 42.343621999999996, 42.350479, 42.345165, 42.343733, 42.34867, 42.345904, 42.376946999999994, 42.369965, 42.351337, 42.354585, 42.357766999999996, 42.311972999999995, 42.351518, 42.352142, 42.351261, 42.351321999999996, 42.350908000000004, 42.350936, 42.352068, 42.353343, 42.352599, 42.351509, 42.350578999999996, 42.351440000000004, 42.352746999999994, 42.349558, 42.352344, 42.361145, 42.359097999999996, 42.359343, 42.357217999999996, 42.360939, 42.360832, 42.359552, 42.35086, 42.346439000000004, 42.351471000000004, 42.354285, 42.347893, 42.347321, 42.348059, 42.351306, 42.346408000000004, 42.346687, 42.345936, 42.328269, 42.365334000000004, 42.331427000000005, 42.286355, 42.286640000000006, 42.316905, 42.300897, 42.308831, 42.327462, 42.323243, 42.305126, 42.317538, 42.316148999999996, 42.261026, 42.267734000000004, 42.244682, 42.338035999999995, 42.345171, 42.343564, 42.347074, 42.343194, 42.347668, 42.3454, 42.346264, 42.34467, 42.367409, 42.387645, 42.364228999999995, 42.388584, 42.352978, 42.360151, 42.357307, 42.360394, 42.289714000000004, 42.314083000000004, 42.318534, 42.317921999999996, 42.293162, 42.35102, 42.350386, 42.348628999999995, 42.357816, 42.350541, 42.333065000000005, 42.307254, 42.38912, 42.359173, 42.343834, 42.315888, 42.365057, 42.345766999999995, 42.350799, 42.360871, 42.347008, 42.347668, 42.352739, 42.263386, 42.366541, 42.365234, 42.364802000000005, 42.365132, 42.364796000000005, 42.364668, 42.364819, 42.365475, 42.364862, 42.36319, 42.363291, 42.357662, 42.3508, 42.344439, 42.343952, 42.34942, 42.351034000000006, 42.358841, 42.336894, 42.358230999999996, 42.342727000000004, 42.359229, 42.350763, 42.353711, 42.349652, 42.357588, 42.352476, 42.348493, 42.349862, 42.358571000000005, 42.347068, 42.341396, 42.345985, 42.344315, 42.344256, 42.351617, 42.343056, 42.317109, 42.343034, 42.363884000000006, 42.281946000000005, 42.30189, 42.335296, 42.343651, 42.358545, 42.347415999999996, 42.358934999999995, 42.343496, 42.349641999999996, 42.350796, 42.346517999999996, 42.346709999999995, 42.344673, 42.347351, 42.351152, 42.35476, 42.349725, 42.355102, 42.340697, 42.341359999999995, 42.350145, 42.351114, 42.345779, 42.351572999999995, 42.348366, 42.340433000000004, 42.347626, 42.291988, 42.257433, 42.336742, 42.346354, 42.337555, 42.347032, 42.34707, 42.342019, 42.34313, 42.342954, 42.331039000000004, 42.33647, 42.338018, 42.338914, 42.338885999999995, 42.289071, 42.348575, 42.314557, 42.349585999999995, 42.318251000000004, 42.344558, 42.337339, 42.357852, 42.380163, 42.352919, 42.366147999999995, 42.351321999999996, 42.341952, 42.315478000000006, 42.294805, 42.364408000000005, 42.366451, 42.349109000000006, 42.312653000000005, 42.361897, 42.358836, 42.364245000000004, 42.357953, 42.374043, 42.343701, 42.343758, 42.343543, 42.376634, 42.338876, 42.318566, 42.359035, 42.343363000000004, 42.346428, 42.364087, 42.360616, 42.34189, 42.306333, 42.342417, 42.337486, 42.341372, 42.317434000000006, 42.356957, 42.351786, 42.309358, 42.2794, 42.32172, 42.361171999999996, 42.34122, 42.342109, 42.335882, 42.351929, 42.324557, 42.359465, 42.354717, 42.350347, 42.358931, 42.325842, 42.307421999999995, 42.310213, 42.339324, 42.349222999999995, 42.359372, 42.307767999999996, 42.342803, 42.313179, 42.359413, 42.357799, 42.344085, 42.345334, 42.360189, 42.313879, 42.350695, 42.361459, 42.346758, 42.342335, 42.363553, 42.358706, 42.3619, 42.348978, 42.365709, 42.345203000000005, 42.364544, 42.352852, 42.350565, 42.362252000000005, 42.378079, 42.343624, 42.33618, 42.344685, 42.376689, 42.342217, 42.307574, 42.280279, 42.288852, 42.296299, 42.347813, 42.263443, 42.377579, 42.291001, 42.351321999999996, 42.36091, 42.352656, 42.356025, 42.342751, 42.363865000000004, 42.322246, 42.3502, 42.350386, 42.352841999999995, 42.349878000000004, 42.289809000000005, 42.345613, 42.308898, 42.346191, 42.348698999999996, 42.360351, 42.328254, 42.271761, 42.337976, 42.342034999999996, 42.347531, 42.348232, 42.34687, 42.343371000000005, 42.367813, 42.360163, 42.343282, 42.366233, 42.342831, 42.344313, 42.310631, 42.345385, 42.333884000000005, 42.378791, 42.317094, 42.349769, 42.309574, 42.335187, 42.378136, 42.312639000000004, 42.349579, 42.33849, 42.345378000000004, 42.331821000000005, 42.279503999999996, 42.336925, 42.328523, 42.347355, 42.277243, 42.337528999999996, 42.353852, 42.336509, 42.345044, 42.352921, 42.353153000000006, 42.360857, 42.342372999999995, 42.338879, 42.334096, 42.341133, 42.363217999999996, 42.327574, 42.349887, 42.311442, 42.318814, 42.345783000000004, 42.343874, 42.332747, 42.315497, 42.277956, 42.34802, 42.353922, 42.308982, 42.350314000000004, 42.351743, 42.350132, 42.350474, 42.360751, 42.353707, 42.367585, 42.356681, 42.343309000000005, 42.355004, 42.36052, 42.356856, 42.3155, 42.358961, 42.366268, 42.364026, 42.360931, 42.350742, 42.355528, 42.361026, 42.345419, 42.280903, 42.346921, 42.344028, 42.271745, 42.335839, 42.309577000000004, 42.342721999999995, 42.35322, 42.335172, 42.373948999999996, 42.366924, 42.355678000000005, 42.330784, 42.342929, 42.353002000000004, 42.343641999999996, 42.358196, 42.313736999999996, 42.344471, 42.360789000000004, 42.375389, 42.315923, 42.259704, 42.361595, 42.316328999999996, 42.34962, 42.335324, 42.326574, 42.341795, 42.342496000000004, 42.356823, 42.361501000000004, 42.270901, 42.317321, 42.325753000000006, 42.353357, 42.366621, 42.31315, 42.337168, 42.340955, 42.305577, 42.343011, 42.34904, 42.34312, 42.383642, 42.352707, 42.294442, 42.342059000000006, 42.292238, 42.318578, 42.36619, 42.34502, 42.352546999999994, 42.352273, 42.344146, 42.309774, 42.296668, 42.351251, 42.319699, 42.329091, 42.366586, 42.336632, 42.360178999999995, 42.323941999999995, 42.340762, 42.352098, 42.368331, 42.338387, 42.308661, 42.358118, 42.352869, 42.335823, 42.294731, 42.365341, 42.268955, 42.349005, 42.344907, 42.316866, 42.339461, 42.358568, 42.345422, 42.303705, 42.341626, 42.36115, 42.295118, 42.351592, 42.360802, 42.37208, 42.350336, 42.337665, 42.338075, 42.367726, 42.36419, 42.266928, 42.337661, 42.340224, 42.312676, 42.350234, 42.342252, 42.348071999999995, 42.355424, 42.344904, 42.34518, 42.338434, 42.342293, 42.361140999999996, 42.273669, 42.344696, 42.344883, 42.366523, 42.334119, 42.276913, 42.35249, 42.342594, 42.344895, 42.354919, 42.350813, 42.317626000000004, 42.35965, 42.345594, 42.324188, 42.344332, 42.345141, 42.331038, 42.340109999999996, 42.318209, 42.311995, 42.330878000000006, 42.369492, 42.352247, 42.358988000000004, 42.355697, 42.37408, 42.339251000000004, 42.296384, 42.347147, 42.335695, 42.329392, 42.362708000000005, 42.351779, 42.350294, 42.351776, 42.35174, 42.351659999999995, 42.341696, 42.354321, 42.339827, 42.305966, 42.346215, 42.331476, 42.352832, 42.329997999999996, 42.330397999999995, 42.319239, 42.327396, 42.323403000000006, 42.352759999999996, 42.343016, 42.324432, 42.348535, 42.340522, 42.365644, 42.351227, 42.344141, 42.355769, 42.359640999999996, 42.352971000000004, 42.322109000000005, 42.337755, 42.286265, 42.365097, 42.349874, 42.344025, 42.359913, 42.355920000000005, 42.331604, 42.366862, 42.359187, 42.344846000000004, 42.346278999999996, 42.349422, 42.360957, 42.342514, 42.339815, 42.343099, 42.360873, 42.27493, 42.334775, 42.343841999999995, 42.363827, 42.353555, 42.343356, 42.344834999999996, 42.330006, 42.352806, 42.371140000000004, 42.343064, 42.309063, 42.360991, 42.355267, 42.343173, 42.350818, 42.351994, 42.34985, 42.359951, 42.324527, 42.376717, 42.352113, 42.340728000000006, 42.330459999999995, 42.293535, 42.369377, 42.333094, 42.314865000000005, 42.295587, 42.313379, 42.351195000000004, 42.317659, 42.283677000000004, 42.333753, 42.319179, 42.363426000000004, 42.377612, 42.366826, 42.328272, 42.329552, 42.35325, 42.350867, 42.380055, 42.364821, 42.357877, 42.308439, 42.336186, 42.352024, 42.359851, 42.343264000000005, 42.361219, 42.352578, 42.335056, 42.353359000000005, 42.341089000000004, 42.345158000000005, 42.329159999999995, 42.354496999999995, 42.34903, 42.343684, 42.342063, 42.347369, 42.385553, 42.330934, 42.367356, 42.346437, 42.312899, 42.363814, 42.349892, 42.377520000000004, 42.352573, 42.343955, 42.344892, 42.307605, 42.331385, 42.343992, 42.340999, 42.353578000000006, 42.282802000000004, 42.315798, 42.350283000000005, 42.354788, 42.35373, 42.364945, 42.288468, 42.281245, 42.343831, 42.329083000000004, 42.311314, 42.297916, 42.356071, 42.318743, 42.360572999999995, 42.32497, 42.346674, 42.363341999999996, 42.347544, 42.313590000000005, 42.309238, 42.364884, 42.329982, 42.352596999999996, 42.349954, 42.360388, 42.297311, 42.357833, 42.348924, 42.348628999999995, 42.348176, 42.357082, 42.317949, 42.359084, 42.309798, 42.325049, 42.367222999999996, 42.342236, 42.35941, 42.319265, 42.30641, 42.352924, 42.303346999999995, 42.318034000000004, 42.325860999999996, 42.343901, 42.353538, 42.34632, 42.284562, 42.33902, 42.359145, 42.290246, 42.351174, 42.356747, 42.310041999999996], \"lon\": [-71.067036, -71.132677, -71.079758, -71.07373199999999, -71.07530600000001, -71.110658, -71.07716500000001, -71.071283, -71.074377, -71.153068, -71.083187, -71.114048, -71.12929799999999, -71.088814, -71.133349, -71.082068, -71.096288, -71.072843, -71.106362, -71.103674, -71.10193100000001, -71.051992, -71.15549, -71.158183, -71.056311, -71.064195, -71.070355, -71.080263, -71.062422, -71.04836800000001, -71.038861, -71.068857, -71.071088, -71.13655200000001, -71.101764, -71.096519, -71.10510699999999, -71.111807, -71.066648, -71.068188, -71.135349, -71.06355, -71.15515699999999, -71.061987, -71.065836, -71.069406, -71.087056, -71.062596, -71.100353, -71.095814, -71.06911600000001, -71.073527, -71.080724, -71.151356, -71.05625500000001, -71.071472, -71.16675699999999, -71.046441, -71.157173, -71.063992, -71.103752, -71.12759, -71.135599, -71.047781, -71.15130500000001, -71.028109, -71.05892, -71.139219, -71.071362, -71.058438, -71.060367, -71.079255, -71.057704, -71.053067, -71.167026, -71.062789, -71.071162, -71.05375500000001, -71.082321, -71.051725, -71.063715, -71.102877, -71.063016, -71.073062, -71.116827, -71.067993, -71.167325, -71.060188, -71.04811600000001, -71.084783, -71.053009, -71.070075, -71.103387, -71.100562, -71.090761, -71.153515, -71.102689, -71.07688399999999, -71.066058, -71.051583, -71.08880500000001, -71.067265, -71.06081800000001, -71.05499499999999, -71.136151, -71.029737, -71.113314, -71.074218, -71.106134, -71.08018100000001, -71.061379, -71.078533, -71.068724, -71.134113, -71.072859, -71.06558299999999, -71.07889200000001, -71.056113, -71.079702, -71.111274, -71.05624, -71.144202, -71.067677, -71.061403, -71.044814, -71.11833399999999, -71.06953399999999, -71.063833, -71.137286, -71.08067199999999, -71.095887, -71.140569, -71.060636, -71.134499, -71.055361, -71.074119, -71.08465100000001, -71.114016, -71.07467700000001, -71.112572, -71.084882, -71.00519200000001, -71.060547, -71.065872, -71.054709, -71.101517, -71.06992199999999, -71.130486, -71.067767, -71.075141, -71.09815, -71.100325, -71.125294, -71.11446600000001, -71.05540699999999, -71.06815, -71.06251, -71.07510699999999, -71.070483, -71.078812, -71.06601500000001, -71.10138, -71.046943, -71.078117, -71.07793000000001, -71.075153, -71.09486, -71.088289, -71.06944399999999, -71.068143, -71.098613, -71.08199499999999, -71.076904, -71.057547, -71.070477, -71.10627099999999, -71.07247, -71.100031, -71.00268299999999, -71.074388, -71.14059, -71.077878, -71.068122, -71.07159399999999, -71.067846, -71.04105600000001, -71.110742, -71.058003, -71.057384, -71.06184499999999, -71.102513, -71.07144699999999, -71.082014, -71.075397, -71.119589, -71.11153, -71.130658, -71.069234, -71.081413, -71.075135, -71.071667, -71.105624, -71.113067, -71.103727, -71.05943, -71.077003, -71.111708, -71.07953499999999, -71.081244, -71.08636700000001, -71.084098, -71.034275, -71.057152, -71.077232, -71.062929, -71.078778, -71.116745, -71.103476, -71.069194, -71.10652900000001, -71.117643, -71.12451, -71.07425699999999, -71.078384, -71.12901600000001, -71.049763, -71.07551099999999, -71.167968, -71.098528, -71.051305, -71.09883, -71.080901, -71.131314, -71.085887, -71.136059, -71.14773199999999, -71.07719200000001, -71.07186, -71.085779, -71.042997, -71.094189, -71.05168, -71.049417, -71.043419, -71.088459, -71.143844, -71.082954, -71.066703, -71.127539, -71.104034, -71.07875899999999, -71.081284, -71.064472, -71.100557, -71.09350500000001, -71.079148, -71.068128, -71.145331, -71.057781, -71.068291, -71.100163, -71.054912, -71.105615, -71.054546, -71.12491, -71.137153, -71.00461999999999, -71.081936, -71.07389599999999, -71.11848499999999, -71.124703, -71.10007900000001, -71.053855, -71.05892800000001, -71.074003, -71.03319599999999, -71.16348, -71.11364300000001, -71.076488, -71.096598, -71.089241, -71.058779, -71.069857, -71.103272, -71.10854599999999, -71.093851, -71.10062099999999, -71.109425, -71.070729, -71.053242, -71.074966, -71.030078, -71.112617, -71.054843, -71.13515100000001, -71.098724, -71.089526, -71.049031, -71.1071, -71.133539, -71.10965999999999, -71.136896, -71.052138, -71.067201, -71.066034, -71.06362299999999, -71.069761, -71.059775, -71.156425, -71.126901, -71.101748, -71.06696600000001, -71.06089300000001, -71.05305899999999, -71.06206, -71.065232, -71.081141, -71.141334, -71.059888, -71.105368, -71.121935, -71.05778000000001, -71.075601, -71.064052, -71.109427, -71.083704, -71.07885, -71.07706, -71.1414, -71.082727, -71.15519599999999, -71.087938, -71.115201, -71.06930899999999, -71.062531, -71.063437, -71.103274, -71.033885, -71.066303, -71.08205, -71.071618, -71.06339200000001, -71.061308, -71.088504, -71.052334, -71.084458, -71.038189, -71.08708100000001, -71.108908, -71.05528000000001, -71.070734, -71.114311, -71.084603, -71.040444, -71.056625, -71.062, -71.052847, -71.086837, -71.095247, -71.080789, -71.072179, -71.048662, -71.079994, -71.08228100000001, -71.038575, -71.059005, -71.0648, -71.105406, -71.11321, -71.087479, -71.063875, -71.08188100000001, -71.035208, -71.038275, -71.097563, -71.140712, -71.052062, -71.07600500000001, -71.038389, -71.054956, -71.028943, -71.056021, -71.055666, -71.056944, -71.111837, -71.086783, -71.0536, -71.10136999999999, -71.086649, -71.053722, -71.127189, -71.099707, -71.12828499999999, -71.084226, -71.082336, -71.037126, -71.05770799999999, -71.094858, -71.103853, -71.098775, -71.064955, -71.067076, -71.081161, -71.112539, -71.079491, -71.09265, -71.11355, -71.0684, -71.125119, -71.099841, -71.098985, -71.116484, -71.049784, -71.063129, -71.08625699999999, -71.12561099999999, -71.08410699999999, -71.056652, -71.05116600000001, -71.097187, -71.07829699999999, -71.100095, -71.081149, -71.076802, -71.104652, -71.125563, -71.164188, -71.135761, -71.098968, -71.129278, -71.061036, -71.065095, -71.058006, -71.06920799999999, -71.114135, -71.054077, -71.064891, -71.074311, -71.052856, -71.06355400000001, -71.099772, -71.161141, -71.101489, -71.053376, -71.09483399999999, -71.153538, -71.085823, -71.079691, -71.0703, -71.035562, -71.064193, -71.127365, -71.077543, -71.11290799999999, -71.10011800000001, -71.068105, -71.10480600000001, -71.07776, -71.059568, -71.089226, -71.078855, -71.103154, -71.075725, -71.088389, -71.116479, -71.07283199999999, -71.059537, -71.112142, -71.03504000000001, -71.14285699999999, -71.057703, -71.133836, -71.054509, -71.048188, -71.066521, -71.101742, -71.081469, -71.10482900000001, -71.091323, -71.134374, -71.061205, -71.126334, -71.156963, -71.141987, -71.059912, -71.036151, -71.076088, -71.055863, -71.043592, -71.069087, -71.086753, -71.148027, -71.15979499999999, -71.162145, -71.075866, -71.069928, -71.112024, -71.106431, -71.077623, -71.09559499999999, -71.07339300000001, -71.08615400000001, -71.08107199999999, -71.05846700000001, -71.153251, -71.09003299999999, -71.053733, -71.082059, -71.05268199999999, -71.07746999999999, -71.030415, -71.08735, -71.051154, -71.070652, -71.140497, -71.07909599999999, -71.03984200000001, -71.09075899999999, -71.10024, -71.098563, -71.073611, -71.132272, -71.10298, -71.141642, -71.087696, -71.061677, -71.056809, -71.067859, -71.107861, -71.064378, -71.107844, -71.067335, -71.094049, -71.078017, -71.118645, -71.148032, -71.076851, -71.034257, -71.064038, -71.047237, -71.053423, -71.038952, -71.069452, -71.064152, -71.0721, -71.098828, -71.049664, -71.061683, -71.07502099999999, -71.145004, -71.054682, -71.05451500000001, -71.030457, -71.148759, -71.114692, -71.080102, -71.084654, -71.07938, -71.119351, -71.073639, -71.07873599999999, -71.130843, -71.09796300000001, -71.109305, -71.129104, -71.142325, -71.072932, -71.099812, -71.112937, -71.07891500000001, -71.095896, -71.133466, -71.071012, -71.051363, -71.099308, -71.08000799999999, -71.07477, -71.091561, -71.152412, -71.108514, -71.054344, -71.074157, -71.100172, -71.102514, -71.067616, -71.039764, -71.04555, -71.11066, -71.097353, -71.03277800000001, -71.05544300000001, -71.010419, -71.092751, -71.076071, -71.081813, -71.100656, -71.103693, -71.100073, -71.072612, -71.07055799999999, -71.076642, -71.05107199999999, -71.082594, -71.04953499999999, -71.162552, -71.069722, -71.098861, -71.13712, -71.002822, -71.069497, -71.13119, -71.06617800000001, -71.151578, -71.090742, -71.074558, -71.135716, -71.103406, -71.06548199999999, -71.07300500000001, -71.11967800000001, -71.098815, -71.062072, -71.070799, -71.0931, -71.081971, -71.005257, -71.073998, -71.08681, -71.107337, -71.111956, -71.077375, -71.132824, -71.140005, -71.053431, -71.098212, -71.11643199999999, -71.08005, -71.059104, -71.089066, -71.057356, -71.052401, -71.05218, -71.07990500000001, -71.113866, -71.098209, -71.114003, -71.145765, -71.06532299999999, -71.060372, -71.079116, -71.135765, -71.115841, -71.061786, -71.075711, -71.081897, -71.10673, -71.11026700000001, -71.065049, -71.08233100000001, -71.08126700000001, -71.077095, -71.101609, -71.060955, -71.065625, -71.058326, -71.082851, -71.093948, -71.097528, -71.056977, -71.062797, -71.06765, -71.063214, -71.069879, -71.02874399999999, -71.056081, -71.096404, -71.107518, -71.126041, -71.116817, -71.076327, -71.01424, -71.057141, -71.080951, -71.08152, -71.137121, -71.135536, -71.101725, -71.064048, -71.074632, -71.07542, -71.034163, -71.11259100000001, -71.112955, -71.06188, -71.079474, -71.160612, -71.062273, -71.09050500000001, -71.1248, -71.114299, -71.033251, -71.065351, -71.07914, -71.06797399999999, -71.066911, -71.073502, -71.050963, -71.07853399999999, -71.127714, -71.05897900000001, -71.06249, -71.092513, -71.131338, -71.04833199999999, -71.053159, -71.065475, -71.117757, -71.072787, -71.055673, -71.049072, -71.052025, -71.046148, -71.071652, -71.034802, -71.079859, -71.065919, -71.075703, -71.08346, -71.065202, -71.16211700000001, -71.082039, -71.063563, -71.06858199999999, -71.059535, -71.051964, -71.07509300000001, -71.05413, -71.105434, -71.112894, -71.112542, -71.101325, -71.063955, -71.127348, -71.059747, -71.077433, -71.069037, -71.076027, -71.033761, -71.075334, -71.079065, -71.055525, -71.062917, -71.076406, -71.05523000000001, -71.089339, -71.055729, -71.05109399999999, -71.064376, -71.146918, -71.133372, -71.081299, -71.071235, -71.114645, -71.106317, -71.052213, -71.109637, -71.083991, -71.079723, -71.136715, -71.16242, -71.098309, -71.10551, -71.082237, -71.097251, -71.057721, -71.054682, -71.042028, -71.05958000000001, -71.056399, -71.13295600000001, -71.060476, -71.06728199999999, -71.134274, -71.168588, -71.069395, -71.055882, -71.075129, -71.10105899999999, -71.02960300000001, -71.1029, -71.046196, -71.14638199999999, -71.12742, -71.053166, -71.05916500000001, -71.087047, -71.12634, -71.052736, -71.040113, -71.137151, -71.078203, -71.034666, -71.079087, -71.055798, -71.06205600000001, -71.116874, -71.100225, -71.10852, -71.14031800000001, -71.053859, -71.13714399999999, -71.055591, -71.09312800000001, -71.04020600000001, -71.140472, -71.09622, -71.15351899999999, -71.075375, -71.10777900000001, -71.110663, -71.098254, -71.110972, -71.077774, -71.086337, -71.068794, -71.135852, -71.092941, -71.076663, -71.073173, -71.063661, -71.063311, -71.09095400000001, -71.076408, -71.05438199999999, -71.118765, -71.090011, -71.05373, -71.061663, -71.03143399999999, -71.041545, -71.1026, -71.04894300000001, -71.087924, -71.07055799999999, -71.059014, -71.097151, -71.099455, -71.123999, -71.059102, -71.06260999999999, -71.089151, -71.12737299999999, -71.066785, -71.084848, -71.083907, -71.076714, -71.076567, -71.100617, -71.077774, -71.083155, -71.063056, -71.067064, -71.059737, -71.06223299999999, -71.062251, -71.067802, -71.14129399999999, -71.10752, -71.074822, -71.11178000000001, -71.07991700000001, -71.126703, -71.05924, -71.057975, -71.08462, -71.075762, -71.094771, -71.128226, -71.03336999999999, -71.089524, -71.07621400000001, -71.099808, -71.079798, -71.064181, -71.105136, -71.100383, -71.06675, -71.075224, -71.136258, -71.13494200000001, -71.030313, -71.078746, -71.086861, -71.07618000000001, -71.083315, -71.078195, -71.10556700000001, -71.06929000000001, -71.098527, -71.075715, -71.09405500000001, -71.152474, -71.10058199999999, -71.039125, -71.00464000000001, -71.116422, -71.07198000000001, -71.112629, -71.093836, -71.065112, -71.053864, -71.104929, -71.077316, -71.077111, -71.090948, -71.106945, -71.076391, -71.06827, -71.11391400000001, -71.099875, -71.052952, -71.107027, -71.05832, -71.063009, -71.10745899999999, -71.04148, -71.10735799999999, -71.057454, -71.133641, -71.078029, -71.087755, -71.062606, -71.05558, -71.054468, -71.078536, -71.045509, -71.052132, -71.061918, -71.06444300000001, -71.063109, -71.14235500000001, -71.045008, -71.089355, -71.102059, -71.089536, -71.111521, -71.09299, -71.078924, -71.076976, -71.070236, -71.07050799999999, -71.11712, -71.052298, -71.114827, -71.030457, -71.14318, -71.13179699999999, -71.073126, -71.054317, -71.06209799999999, -71.061409, -71.049207, -71.079661, -71.063859, -71.071749, -71.078999, -71.067059, -71.0929, -71.055681, -71.09495799999999, -71.061408, -71.067104, -71.130578, -71.061089, -71.127682, -71.102267, -71.097988, -71.057743, -71.110371, -71.167947, -71.080371, -71.068598, -71.070564, -71.08766700000001, -71.09931800000001, -71.062079, -71.057895, -71.058104, -71.151916, -71.089389, -71.100684, -71.034602, -71.068726, -71.03102, -71.05709399999999, -71.078487, -71.137984, -71.053074, -71.073886, -71.07236, -71.074951, -71.08323, -71.081553, -71.046938, -71.082798, -71.055369, -71.089362, -71.07701899999999, -71.08574499999999, -71.115719, -71.053309, -71.069949, -71.062379, -71.033713, -71.053977, -71.106507, -71.067391, -71.06129399999999, -71.08574200000001, -71.0703, -71.167459, -71.07021800000001, -71.127299, -71.073453, -71.079551, -71.069857, -71.06227700000001, -71.062503, -71.10115, -71.037669, -71.054355, -71.087947, -71.142495, -71.160763, -71.08194300000001, -71.029021, -71.10973, -71.11608299999999, -71.084691, -71.07521700000001, -71.030262, -71.071297, -71.09514399999999, -71.130551, -71.000332, -71.06412900000001, -71.094398, -71.033349, -71.09003, -71.06580100000001, -71.063958, -71.06151700000001, -71.0883, -71.091854, -71.06144599999999, -71.048824, -71.055594, -71.117864, -71.07222800000001, -71.075991, -71.10449399999999, -71.036011, -71.086334, -71.03493, -71.132628, -71.06943199999999, -71.073893, -71.055882, -71.052566, -71.030695, -71.07178, -71.068344, -71.06280500000001, -71.106708, -71.16816, -71.143571, -71.070927, -71.052396, -71.06421800000001, -71.06685, -71.061402, -71.127612, -71.101742, -71.06475400000001, -71.062188, -71.070515, -71.094654, -71.093998, -71.060692, -71.041545, -71.151433, -71.07853100000001, -71.07658599999999, -71.10297299999999, -71.085474, -71.061818, -71.066365, -71.07857800000001, -71.141473, -71.08743299999999, -71.038451, -71.07523499999999, -71.076503, -71.12968599999999, -71.034922, -71.046826, -71.090133, -71.06316, -71.046127, -71.051502, -71.041135, -71.058183, -71.083608, -71.06773100000001, -71.090814, -71.161277, -71.04212199999999, -71.138728, -71.050462, -71.117937, -71.061533, -71.04665899999999, -71.073414, -71.152466, -71.062881, -71.092854, -71.07735500000001, -71.05866999999999, -71.100497, -71.062324, -71.105587, -71.072971, -71.087094, -71.147375, -71.15018, -71.079266, -71.101743, -71.113472, -71.0593, -71.148954, -71.076607, -71.10127800000001, -71.06134200000001, -71.118365, -71.095873, -71.063618, -71.064625, -71.125059, -71.101621, -71.10333100000001, -71.056129, -71.08346999999999, -71.135475, -71.055643, -71.05448100000001, -71.10984300000001, -71.098527, -71.098166, -71.08475, -71.116218, -71.09976800000001, -71.063315, -71.077344, -71.049448, -71.128838, -71.09756, -71.054428, -71.12396, -71.062441, -71.13819000000001, -71.063385, -71.076875, -71.054855, -71.156375, -71.129354, -71.088943, -71.08641, -71.130139, -71.128911, -71.139871, -71.10203, -71.134086, -71.09007700000001, -71.101833, -71.07376, -71.047251, -71.06874599999999, -71.05031600000001, -71.097748, -71.08140300000001, -71.129544, -71.085522, -71.10550500000001, -71.114162, -71.069138, -71.057112, -71.102878, -71.02848900000001, -71.113025, -71.098809, -71.131449, -71.13553, -71.101454, -71.128976, -71.05840699999999, -71.098065, -71.04952, -71.097571, -71.08349, -71.090121, -71.041537, -71.065448, -71.062224, -71.11460100000001, -71.100569, -71.058802, -71.102074, -71.07249200000001, -71.074872, -71.068104, -71.12555400000001, -71.057691, -71.039201, -71.149075, -71.061791, -71.069039, -71.077995, -71.06962800000001, -71.080197, -71.037072, -71.040148, -71.169141, -71.051214, -71.063146, -71.05720699999999, -71.130238, -71.070916, -71.060427, -71.082859, -71.09665799999999, -71.137457, -71.088257, -71.09415, -71.067663, -71.10038, -71.04316700000001, -71.126876, -71.10191, -71.088089, -71.08995300000001, -71.056945, -71.035258, -71.093406, -71.08227099999999, -71.06165899999999, -71.148512, -71.103103, -71.03729399999999, -71.051723, -71.115137, -71.06532, -71.102092, -71.093266, -71.084147, -71.058255, -71.02815799999999, -71.061194, -71.141295, -71.061867, -71.054604, -71.143478, -71.076367, -71.134253, -71.088014, -71.058622, -71.094091, -71.058447, -71.131858, -71.086499, -71.0481, -71.137084, -71.055185, -71.09199, -71.092641, -71.075745, -71.102041, -71.12833, -71.05363, -71.075711, -71.066461, -71.075997, -71.08953299999999, -71.138702, -71.06854799999999, -71.07884, -71.070915, -71.126924, -71.07337199999999, -71.061769, -71.14352199999999, -71.102963, -71.053735, -71.075024, -71.053874, -71.064585, -71.077488, -71.10342299999999, -71.075457, -71.111079, -71.06134, -71.112318, -71.062128, -71.14371, -71.065213, -71.095272, -71.082009, -71.051992, -71.055363, -71.080487, -71.05704200000001, -71.069069, -71.11395999999999, -71.074301, -71.074047, -71.084591, -71.096098, -71.063604, -71.072611, -71.085778, -71.077619, -71.166446, -71.06633599999999, -71.108462, -71.112021, -71.045641, -71.056451, -71.071003, -71.075328, -71.100537, -71.051587, -71.158912, -71.08164000000001, -71.073963, -71.166583, -71.10974499999999, -71.07608499999999, -71.06984399999999, -71.081485, -71.048288, -71.08846, -71.08869399999999, -71.063551, -71.075478, -71.16219, -71.081251, -71.111535, -71.064847, -71.131001, -71.032943, -71.083587, -71.123778, -71.063326, -71.104466, -71.05996, -71.06326999999999, -71.11354200000001, -71.052252, -71.06704, -71.13072199999999, -71.07464300000001, -71.13580999999999, -71.08073900000001, -71.07984599999999, -71.074937, -71.10105899999999, -71.156315, -71.130488, -71.110334, -71.1356, -71.057693, -71.11490699999999, -70.993157, -71.066928, -71.05853499999999, -71.100038, -71.114721, -71.098079, -71.073947, -71.12956, -71.080559, -71.11789300000001, -71.054446, -71.10705899999999, -71.12925, -71.003631, -71.039139, -71.153415, -71.114118, -71.122097, -71.05580400000001, -71.104928, -71.038197, -71.070565, -71.125573, -71.104168, -71.10566700000001, -71.10961999999999, -71.115301, -71.003863, -71.058788, -71.07566899999999, -71.07678100000001, -71.02883800000001, -71.097027, -71.050065, -71.04285899999999, -71.159418, -71.148883, -71.099999, -71.050449, -71.08443299999999, -71.168751, -71.074262, -71.06280799999999, -71.07857299999999, -71.06172099999999, -71.047263, -71.108131, -71.068991, -71.041464, -71.08560899999999, -71.15114100000001, -71.107524, -71.10172299999999, -71.116221, -71.074442, -71.05843399999999, -71.066526, -71.098, -71.05124599999999, -71.089057, -71.106615, -71.090051, -71.03842399999999, -71.052555, -71.055358, -71.118638, -71.077722, -71.09631800000001, -71.076511, -71.12693399999999, -71.03476500000001, -71.108195, -71.10723, -71.12687, -71.05566400000001, -71.07290400000001, -71.10146800000001, -71.06854799999999, -71.106406, -71.06725899999999, -71.041071, -71.08894000000001, -71.141508, -71.069098, -71.077962, -71.151451, -71.10171899999999, -71.063698, -71.054348, -71.1093, -71.088252, -71.058126, -71.079616, -71.130931, -71.085954, -71.102384, -71.053201, -71.07604, -71.0993, -71.05860799999999, -71.075631, -71.051454, -71.145969, -71.059364, -71.098448, -71.088864, -71.090721, -71.06763000000001, -71.112574, -71.08750400000001, -71.104399, -71.074857, -71.121702, -71.045098, -71.105824, -71.11838, -71.060437, -71.069037, -71.062453, -71.066813, -71.157238, -71.065483, -71.070989, -71.047962, -71.104598, -71.076113, -71.12944499999999, -71.06303299999999, -71.069064, -71.130987, -71.128012, -71.074232, -71.109538, -71.03424, -71.068392, -71.07351899999999, -71.09354599999999, -71.084743, -71.086069, -71.09309, -71.06738, -71.072912, -71.058786, -71.075142, -71.038678, -71.100635, -71.067098, -71.098776, -71.069636, -71.056578, -71.06321, -71.10594, -71.037211, -71.064309, -71.066124, -71.127033, -71.048172, -71.08574300000001, -71.097786, -71.076426, -71.08060400000001, -71.096221, -71.072119, -71.10620899999999, -71.137699, -71.081445, -71.06779300000001, -71.054521, -71.135712, -71.072097, -71.062843, -71.135076, -71.09976999999999, -71.05613199999999, -71.073149, -71.067825, -71.135388, -71.092647, -71.063424, -71.038163, -71.096172, -71.071827, -71.084005, -71.087476, -71.087466, -71.058582, -71.08110699999999, -71.132359, -71.06185, -71.073222, -71.061683, -71.077443, -71.080866, -71.081263, -71.038702, -71.053626, -71.07480100000001, -71.072731, -71.10173, -71.102041, -71.077574, -71.089428, -71.100101, -71.070899, -71.064676, -71.006956, -71.050113, -71.09679799999999, -71.074428, -71.069663, -71.052438, -71.127212, -71.089075, -71.004437, -71.080704, -71.053001, -71.082711, -71.09865500000001, -71.142021, -71.059556, -71.099166, -71.08038, -71.08085600000001, -71.09295300000001, -71.107799, -71.1503, -71.077487, -71.058852, -71.07408000000001, -71.037554, -71.063839, -71.042641, -71.088399, -71.035285, -71.080998, -71.08393000000001, -71.060532, -71.163939, -71.137403, -71.066474, -71.099429, -71.061704, -71.076636, -71.139229, -71.07363000000001, -71.066413, -71.055711, -71.051808, -71.138362, -71.05251, -71.140601, -71.099825, -71.139391, -71.076145, -71.05488100000001, -71.062057, -71.06844699999999, -71.076899, -71.061146, -71.05828100000001, -71.072972, -71.136146, -71.058768, -71.073612, -71.077298, -71.088713, -71.060804, -71.12532, -71.061829, -71.063974, -71.096368, -71.10571800000001, -71.05756, -71.07517800000001, -71.098249, -71.059791, -71.110463, -71.126494, -71.07172, -71.107843, -71.039312, -71.13033, -71.072823, -71.10453199999999, -71.10009699999999, -71.088481, -71.05370699999999, -71.050296, -71.039068, -71.029894, -71.066726, -71.03090999999999, -71.06568100000001, -71.053599, -71.142152, -71.130641, -71.033298, -71.055014, -71.08307099999999, -71.140417, -71.104275, -71.086885, -71.133558, -71.07230200000001, -71.057794, -71.06773000000001, -71.033006, -71.07784699999999, -71.03214, -71.10749799999999, -71.05575, -71.068669, -71.082788, -71.065494, -71.075765, -71.121792, -71.070111, -71.091606, -71.085257, -71.116754, -71.071865, -71.054957, -71.039146, -71.086584, -71.097201, -71.148339, -71.04175699999999, -71.10249, -71.054415, -71.07516, -71.067582, -71.09875699999999, -71.081317, -71.118324, -71.076686, -71.16255699999999, -71.1299, -71.063785, -71.085327, -71.088342, -71.058301, -71.0554, -71.08325400000001, -71.09703, -71.075622, -71.070709, -71.13624399999999, -71.055164, -71.05512399999999, -71.051854, -71.05485300000001, -71.144211, -71.07491800000001, -71.075443, -71.10789399999999, -71.11251, -71.113679, -71.101984, -71.082488, -71.142176, -71.06276, -71.068935, -71.059878, -71.063908, -71.079728, -71.074998, -71.087059, -71.084375, -71.106764, -71.10065, -71.079889, -71.085642, -71.020232, -71.075513, -71.13114399999999, -71.153247, -71.162374, -71.101439, -71.04786999999999, -71.071156, -71.069497, -71.066648, -71.088635, -71.112737, -71.063604, -71.070257, -71.12021700000001, -71.06008299999999, -71.164617, -71.047811, -71.088404, -71.066769, -71.06903199999999, -71.141624, -71.102173, -71.079311, -71.080201, -71.073149, -71.062412, -71.075513, -71.064573, -71.071159, -71.07785200000001, -71.06624000000001, -71.079516, -71.047196, -71.04764, -71.047517, -71.047125, -71.04719399999999, -71.047625, -71.046664, -71.04803100000001, -71.047673, -71.033139, -71.047443, -71.045283, -71.047831, -71.05165699999999, -71.05435200000001, -71.05375699999999, -71.054203, -71.05475899999999, -71.096204, -71.08075799999999, -71.100165, -71.125857, -71.10940699999999, -71.084136, -71.06943199999999, -71.102373, -71.065314, -71.07140600000001, -71.068146, -71.13694699999999, -71.034451, -71.08702, -71.06958399999999, -71.079142, -71.064392, -71.0001, -71.082533, -71.04174499999999, -71.05524399999999, -71.105935, -71.107303, -71.098908, -71.098469, -71.099008, -71.101749, -71.10078299999999, -71.097021, -71.095146, -71.097971, -71.093757, -71.100228, -71.099323, -71.094421, -71.104691, -71.03023, -71.039875, -71.065562, -71.062947, -71.05171899999999, -71.066177, -71.05875, -71.063519, -71.063625, -71.062692, -71.061975, -71.06402, -71.061945, -71.059288, -71.061702, -71.06333599999999, -71.06002600000001, -71.06445, -71.061474, -71.06219899999999, -71.06355699999999, -71.064327, -71.071248, -71.068799, -71.070502, -71.063795, -71.07001899999999, -71.06599200000001, -71.08099399999999, -71.079199, -71.08320400000001, -71.077374, -71.072551, -71.083005, -71.07341600000001, -71.08268000000001, -71.079838, -71.07919, -71.079705, -71.093671, -71.054383, -71.111132, -71.09483, -71.088039, -71.105195, -71.111968, -71.115472, -71.110761, -71.113571, -71.114233, -71.108457, -71.105028, -71.119743, -71.130466, -71.121893, -71.099876, -71.096733, -71.086233, -71.08998000000001, -71.088504, -71.089391, -71.106134, -71.10296, -71.10118299999999, -71.036816, -71.01309, -71.029348, -71.00648000000001, -71.065494, -71.052623, -71.05670400000001, -71.058053, -71.06140400000001, -71.062228, -71.040697, -71.053455, -71.07272900000001, -71.059565, -71.048049, -71.085615, -71.066659, -71.082512, -71.10253, -71.11424699999999, -71.000741, -71.067944, -71.065401, -71.071995, -71.05105, -71.06318900000001, -71.13327199999999, -71.065136, -71.137811, -71.13507, -71.124664, -71.15365600000001, -71.06656, -71.067796, -71.068655, -71.06975200000001, -71.070103, -71.069424, -71.06907700000001, -71.068916, -71.067154, -71.06910500000001, -71.067107, -71.070693, -71.091628, -71.086463, -71.167284, -71.14008100000001, -71.160377, -71.12964000000001, -71.15079, -71.129345, -71.16833000000001, -71.13035500000001, -71.141224, -71.12691600000001, -71.161879, -71.128546, -71.169483, -71.169007, -71.133877, -71.129834, -71.135209, -71.16696999999999, -71.136397, -71.14373, -71.086726, -71.167419, -71.051731, -71.080779, -71.100608, -71.057649, -71.14102199999999, -71.12908399999999, -71.101462, -71.087909, -71.05540400000001, -71.16731899999999, -71.06813199999999, -71.097449, -71.084345, -71.09145699999999, -71.077726, -71.07770699999999, -71.077925, -71.07924200000001, -71.068143, -71.07368000000001, -71.068309, -71.07316800000001, -71.144869, -71.146344, -71.128847, -71.170452, -71.13951899999999, -71.12716, -71.13247700000001, -71.159352, -71.13454200000001, -71.141109, -71.15675300000001, -71.078778, -71.062203, -71.07751800000001, -71.06957, -71.070892, -71.07768, -71.073024, -71.063175, -71.05749, -71.05187600000001, -71.038724, -71.04819499999999, -71.048413, -71.128233, -71.15871800000001, -71.106402, -71.067575, -71.057889, -71.10136800000001, -71.073153, -71.063354, -71.035852, -71.078985, -71.05257900000001, -71.05765500000001, -71.07740799999999, -71.099294, -71.068139, -71.057843, -71.055299, -71.08472900000001, -71.099723, -71.052198, -71.068002, -71.052945, -71.06266, -71.061177, -71.069218, -71.08035600000001, -71.098486, -71.052379, -71.146052, -71.05444, -71.141673, -71.078039, -71.07503, -71.05942900000001, -71.13069200000001, -71.07254300000001, -71.119025, -71.1426, -71.076316, -71.069496, -71.11568, -71.06150699999999, -71.136677, -71.11740400000001, -71.095089, -71.103459, -71.065556, -71.07533000000001, -71.0794, -71.08310300000001, -71.14205600000001, -71.059831, -71.071065, -71.060686, -71.15783, -71.059471, -71.08926899999999, -71.101732, -71.101437, -71.051503, -71.063989, -71.13156, -71.116258, -71.095475, -71.056375, -71.065998, -71.063035, -71.096437, -71.08925500000001, -71.12718199999999, -71.10274, -71.136016, -71.067575, -71.074167, -71.07311999999999, -71.055311, -71.067347, -71.065177, -71.050737, -71.055603, -71.14477099999999, -71.053269, -71.060356, -71.162483, -71.068045, -71.06343299999999, -71.097928, -71.027815, -71.076633, -71.03428199999999, -71.146811, -71.13463, -71.13587, -71.131282, -71.087292, -71.061522, -71.14864200000001, -71.063764, -71.074803, -71.08259100000001, -71.065104, -71.161621, -71.138789, -71.091154, -71.06895, -71.112935, -71.131414, -71.066142, -71.128153, -71.140178, -71.123533, -71.076987, -71.11869, -71.096203, -71.086787, -71.067273, -71.057036, -71.167592, -71.071404, -71.072564, -71.103531, -71.07146, -71.03742700000001, -71.098708, -71.03485, -71.070047, -71.06990400000001, -71.05904, -71.080232, -71.098185, -71.11184399999999, -71.07672099999999, -71.10040500000001, -71.06630899999999, -71.069811, -71.051028, -71.10629200000001, -71.076424, -71.063287, -71.109279, -71.088827, -71.077044, -71.100018, -71.036099, -71.093775, -71.048221, -71.095392, -71.137387, -71.08359300000001, -71.074143, -71.131831, -71.055136, -71.100093, -71.061826, -71.077382, -71.06594399999999, -71.079223, -71.047154, -71.028288, -71.080011, -71.051448, -71.092109, -71.048587, -71.057637, -71.103219, -71.07516, -71.07417199999999, -71.05718900000001, -71.05680100000001, -71.161808, -71.072909, -71.076453, -71.113761, -71.07565699999999, -71.08917, -71.163875, -71.14103399999999, -71.062935, -71.076651, -71.05630500000001, -71.071558, -71.055465, -71.072816, -71.064014, -71.070251, -71.11706600000001, -71.053399, -71.058977, -71.059493, -71.063976, -71.169953, -71.07834100000001, -71.141724, -71.077111, -71.081744, -71.094492, -71.08292, -71.161485, -71.100854, -71.047923, -71.078389, -71.080139, -71.07526999999999, -71.06128100000001, -71.056076, -71.068884, -71.04688900000001, -71.079347, -71.064673, -71.07096899999999, -71.07097900000001, -71.116337, -71.081786, -71.067109, -71.0598, -71.09958, -71.119365, -71.065724, -71.099096, -71.07772, -71.034642, -71.082051, -71.075664, -71.075694, -71.07024399999999, -71.064399, -71.07875, -71.108338, -71.097898, -71.081576, -71.05543399999999, -71.104788, -71.0514, -71.148505, -71.113676, -71.056635, -71.09604300000001, -71.07585, -71.068787, -71.063384, -71.119945, -71.143958, -71.134497, -71.106278, -71.039822, -71.168142, -71.125839, -71.082567, -71.087952, -71.04715300000001, -71.111016, -71.05893, -71.041333, -71.094573, -71.059092, -71.074885, -71.054, -71.108202, -71.080223, -71.062499, -71.0388, -71.075552, -71.101564, -71.130914, -71.083138, -71.14863000000001, -71.06111899999999, -71.061011, -71.103835, -71.047839, -71.075234, -71.102544, -71.04805, -71.053297, -71.099882, -71.11397099999999, -71.081492, -71.125513, -71.14877, -71.062207, -71.064504, -71.031983, -71.062149, -71.053849, -71.07532900000001, -71.054089, -71.065828, -71.10242, -71.07280899999999, -71.15322900000001, -71.05371600000001, -71.092955, -71.057115, -71.076639, -71.05775899999999, -71.078458, -71.071598, -71.076848, -71.142639, -71.050885, -71.07709399999999, -71.101148, -71.10139699999999, -71.056792, -71.029441, -71.128233, -71.05628100000001, -71.079421, -71.100031, -71.137052, -71.14171999999999, -71.108654, -71.065247, -71.074881, -71.097954, -71.100976, -71.081029, -71.094559, -71.149591, -71.040405, -71.110451, -71.092984, -71.03659300000001, -71.081102, -71.063247, -71.073166, -71.06009399999999, -71.15959699999999, -71.111053, -71.140434, -71.05126700000001, -71.109814, -71.063307, -71.048773, -71.147264, -71.063681, -71.081734, -71.124899, -71.068892, -71.06128199999999, -71.07419499999999, -71.108776, -71.09371999999999, -71.048888, -71.13091700000001, -71.09480400000001, -71.043813, -71.10624, -71.105083, -71.112735, -71.076981, -71.099856, -71.10789, -71.136824, -71.050271, -71.055371, -71.064081, -71.072263, -71.07314699999999, -71.06552099999999, -71.07901899999999, -71.10926500000001, -71.047437, -71.137065, -71.053646, -71.087981, -71.071749, -71.05331, -71.057909, -71.11079699999999, -71.057862, -71.062651, -71.074673, -71.06175999999999, -71.129388, -71.069643, -71.07273, -71.077701, -71.101123, -71.066672, -71.130628, -71.049954, -71.099296, -71.029303, -71.079049, -71.06571600000001, -71.100063, -71.11276600000001, -71.123981, -71.03519200000001, -71.072005, -71.114354, -71.126683, -71.07599300000001, -71.101198, -71.088027, -71.081896, -71.164513, -71.06545200000001, -71.11204599999999, -71.03655, -71.127706, -71.050258, -71.042914, -71.120713, -71.033345, -71.10820600000001, -71.06566, -71.119416, -71.117189, -71.06371800000001, -71.053462, -71.09796, -71.10654, -71.059928, -71.05821800000001, -71.035198, -71.05698100000001, -71.094432, -71.093241, -71.129579, -71.129175, -71.063241, -71.05177900000001, -71.069753, -71.046396, -71.075872, -71.079773, -71.069345, -71.090912, -71.068249, -71.082599, -71.040786, -71.130344, -71.146339, -71.136597, -71.100998, -71.072411, -71.070572, -71.081125, -71.097527, -71.138246, -71.01513299999999, -71.055488, -71.0392, -71.07480799999999, -71.117847, -71.05159599999999, -71.142566, -71.034181, -71.150565, -71.07600699999999, -71.09869300000001, -71.079769, -71.045164, -71.155896, -71.159945, -71.076027, -71.115145, -71.116963, -71.094239, -71.132088, -71.16107199999999, -71.06766800000001, -71.054774, -71.086042, -71.065469, -71.093289, -71.116171, -71.111019, -71.072691, -71.115997, -71.06548599999999, -71.089489, -71.075498, -71.069978, -71.103863, -71.109115, -71.122196, -71.05449499999999, -71.05617099999999, -71.065219, -71.086602, -71.068286, -71.111203, -71.055066, -71.081273, -71.13382, -71.08655, -71.063073, -71.06081, -71.06774200000001, -71.101742, -71.106296, -71.05736, -71.096397, -71.068302, -71.11324599999999, -71.11151, -71.080804, -71.104974, -71.054511, -71.057965, -71.087541, -71.120289, -71.078073, -71.119726, -71.106641, -71.067851, -71.138532, -71.08998000000001, -71.070143, -71.049418], \"name\": \"\", \"radius\": 13, \"subplot\": \"mapbox\", \"type\": \"densitymapbox\", \"z\": [336.0, 360.0, 304.0, 8.0, 0.0, 134.0, 0.0, 18.0, 144.0, 26.0, 58.0, 28.0, 0.0, 24.0, 32.0, 106.0, 10.0, 0.0, 20.0, 70.0, 180.0, 132.0, 300.0, 178.0, 132.0, 2.0, 0.0, 40.0, 40.0, 50.0, 120.0, 24.0, 24.0, 72.0, 512.0, 228.0, 6.0, 492.0, 6.0, 72.0, 16.0, 228.0, 32.0, 2.0, 60.0, 0.0, 0.0, 112.0, 15.0, 0.0, 208.0, 6.0, 88.0, 0.0, 100.0, 270.0, 360.0, 0.0, 672.0, 42.0, 4.0, 196.0, 12.0, 62.0, 20.0, 1.0, 14.0, 1272.0, 0.0, 120.0, 184.0, 32.0, 32.0, 45.0, 0.0, 0.0, 12.0, 16.0, 0.0, 10.0, 720.0, 40.0, 8.0, 0.0, 28.0, 360.0, 18.0, 4.0, 492.0, 54.0, 13.0, 20.0, 0.0, 0.0, 72.0, 4.0, 10.0, 14.0, 2.0, 8.0, 4.0, 38.0, 21.0, 248.0, 2.0, 108.0, 0.0, 14.0, 176.0, 204.0, 32.0, 164.0, 8.0, 0.0, 405.0, 224.0, 16.0, 462.0, 12.0, 12.0, 276.0, 18.0, 78.0, 0.0, 22.0, 18.0, 140.0, 6.0, 144.0, 360.0, 132.0, 16.0, 0.0, 98.0, 260.0, 3.0, 0.0, 160.0, 104.0, 242.0, 144.0, 0.0, 78.0, 75.0, 5.0, 348.0, 88.0, 2.0, 16.0, 549.0, 0.0, 0.0, 0.0, 30.0, 8.0, 1590.0, 40.0, 32.0, 124.0, 0.0, 30.0, 10.0, 560.0, 56.0, 4.0, 200.0, 420.0, 72.0, 8.0, 40.0, 16.0, 12.0, 84.0, 388.0, 0.0, 232.0, 488.0, 90.0, 7.0, 540.0, 8.0, 24.0, 4.0, 118.0, 56.0, 6.0, 18.0, 8.0, 0.0, 192.0, 40.0, 46.0, 0.0, 0.0, 2.0, 56.0, 12.0, 268.0, 456.0, 0.0, 0.0, 2.0, 147.0, 0.0, 96.0, 28.0, 0.0, 20.0, 0.0, 0.0, 68.0, 152.0, 0.0, 160.0, 48.0, 64.0, 160.0, 76.0, 0.0, 96.0, 432.0, 48.0, 336.0, 48.0, 10.0, 20.0, 84.0, 22.0, 16.0, 36.0, 0.0, 14.0, 24.0, 0.0, 42.0, 120.0, 16.0, 6.0, 280.0, 0.0, 40.0, 56.0, 8.0, 0.0, 0.0, 84.0, 270.0, 3.0, 0.0, 256.0, 54.0, 30.0, 0.0, 0.0, 528.0, 594.0, 44.0, 0.0, 374.0, 94.0, 165.0, 44.0, 300.0, 16.0, 42.0, 46.0, 1260.0, 216.0, 14.0, 40.0, 8.0, 0.0, 6.0, 160.0, 0.0, 256.0, 40.0, 104.0, 0.0, 8.0, 0.0, 0.0, 68.0, 6.0, 30.0, 0.0, 0.0, 80.0, 96.0, 176.0, 6.0, 0.0, 36.0, 48.0, 22.0, 9.0, 20.0, 8.0, 76.0, 333.0, 1020.0, 12.0, 0.0, 372.0, 16.0, 8.0, 4.0, 112.0, 336.0, 40.0, 0.0, 120.0, 108.0, 0.0, 10.0, 136.0, 216.0, 12.0, 60.0, 8.0, 4.0, 84.0, 72.0, 48.0, 0.0, 28.0, 14.0, 2.0, 6.0, 8.0, 42.0, 14.0, 420.0, 336.0, 140.0, 80.0, 17.0, 280.0, 48.0, 0.0, 0.0, 2.0, 232.0, 30.0, 114.0, 88.0, 14.0, 180.0, 6.0, 49.0, 164.0, 128.0, 1.0, 20.0, 0.0, 144.0, 4.0, 136.0, 53.0, 60.0, 88.0, 52.0, 112.0, 0.0, 352.0, 180.0, 46.0, 132.0, 0.0, 52.0, 0.0, 4.0, 0.0, 0.0, 0.0, 27.0, 32.0, 14.0, 168.0, 20.0, 0.0, 80.0, 44.0, 44.0, 12.0, 0.0, 0.0, 0.0, 6.0, 4.0, 8.0, 6.0, 0.0, 50.0, 148.0, 0.0, 6.0, 156.0, 2.0, 4.0, 4.0, 24.0, 66.0, 240.0, 105.0, 104.0, 4.0, 46.0, 16.0, 0.0, 4.0, 20.0, 48.0, 96.0, 10.0, 0.0, 264.0, 24.0, 156.0, 0.0, 180.0, 9.0, 9.0, 632.0, 96.0, 0.0, 0.0, 18.0, 16.0, 6.0, 204.0, 126.0, 35.0, 9.0, 64.0, 96.0, 150.0, 216.0, 18.0, 27.0, 12.0, 33.0, 30.0, 32.0, 48.0, 4.0, 34.0, 16.0, 4.0, 26.0, 21.0, 0.0, 144.0, 88.0, 0.0, 1344.0, 0.0, 24.0, 0.0, 54.0, 0.0, 32.0, 14.0, 38.0, 42.0, 156.0, 216.0, 232.0, 168.0, 6.0, 0.0, 30.0, 19.0, 48.0, 612.0, 0.0, 100.0, 360.0, 300.0, 156.0, 350.0, 0.0, 120.0, 40.0, 12.0, 738.0, 0.0, 48.0, 44.0, 0.0, 24.0, 12.0, 0.0, 42.0, 48.0, 72.0, 48.0, 16.0, 14.0, 198.0, 864.0, 8.0, 105.0, 84.0, 34.0, 60.0, 24.0, 8.0, 184.0, 0.0, 0.0, 2.0, 20.0, 4.0, 12.0, 48.0, 440.0, 2.0, 0.0, 28.0, 212.0, 6.0, 68.0, 8.0, 144.0, 28.0, 184.0, 4.0, 160.0, 28.0, 8.0, 0.0, 84.0, 210.0, 184.0, 2.0, 14.0, 292.0, 153.0, 0.0, 104.0, 16.0, 84.0, 0.0, 0.0, 0.0, 2.0, 9.0, 0.0, 0.0, 0.0, 9.0, 8.0, 60.0, 124.0, 15.0, 168.0, 66.0, 408.0, 80.0, 2.0, 70.0, 36.0, 56.0, 7.0, 190.0, 112.0, 0.0, 160.0, 60.0, 12.0, 96.0, 36.0, 76.0, 0.0, 416.0, 28.0, 12.0, 4.0, 80.0, 222.0, 72.0, 324.0, 12.0, 36.0, 0.0, 483.0, 140.0, 116.0, 76.0, 364.0, 72.0, 4.0, 0.0, 268.0, 36.0, 1.0, 9.0, 76.0, 16.0, 117.0, 0.0, 4.0, 70.0, 9.0, 72.0, 82.0, 8.0, 15.0, 18.0, 51.0, 126.0, 27.0, 6.0, 486.0, 0.0, 0.0, 36.0, 32.0, 32.0, 0.0, 64.0, 1016.0, 70.0, 42.0, 180.0, 160.0, 24.0, 0.0, 120.0, 12.0, 12.0, 16.0, 4.0, 34.0, 540.0, 0.0, 477.0, 64.0, 130.0, 80.0, 4.0, 0.0, 105.0, 8.0, 68.0, 46.0, 14.0, 2.0, 15.0, 68.0, 90.0, 92.0, 632.0, 60.0, 0.0, 60.0, 228.0, 28.0, 60.0, 24.0, 0.0, 15.0, 369.0, 42.0, 14.0, 768.0, 18.0, 285.0, 120.0, 0.0, 26.0, 256.0, 21.0, 0.0, 0.0, 18.0, 30.0, 20.0, 320.0, 3.0, 0.0, 1164.0, 32.0, 0.0, 40.0, 0.0, 1080.0, 20.0, 6.0, 3.0, 10.0, 30.0, 0.0, 0.0, 9.0, 108.0, 14.0, 48.0, 88.0, 396.0, 8.0, 4.0, 156.0, 32.0, 498.0, 36.0, 324.0, 2.0, 68.0, 42.0, 6.0, 36.0, 8.0, 0.0, 10.0, 4.0, 0.0, 147.0, 44.0, 168.0, 72.0, 24.0, 273.0, 0.0, 12.0, 54.0, 28.0, 4.0, 16.0, 14.0, 165.0, 24.0, 16.0, 36.0, 12.0, 16.0, 66.0, 66.0, 16.0, 0.0, 104.0, 12.0, 78.0, 28.0, 96.0, 0.0, 192.0, 56.0, 0.0, 4.0, 14.0, 280.0, 0.0, 0.0, 368.0, 16.0, 2.0, 0.0, 15.0, 144.0, 64.0, 3.0, 64.0, 0.0, 20.0, 2.0, 1028.0, 0.0, 204.0, 18.0, 136.0, 105.0, 62.0, 20.0, 440.0, 8.0, 198.0, 0.0, 90.0, 1020.0, 32.0, 12.0, 12.0, 80.0, 32.0, 16.0, 120.0, 6.0, 282.0, 489.0, 16.0, 12.0, 15.0, 84.0, 0.0, 0.0, 244.0, 0.0, 2.0, 18.0, 344.0, 195.0, 7.0, 264.0, 76.0, 60.0, 0.0, 26.0, 144.0, 244.0, 384.0, 54.0, 3.0, 8.0, 0.0, 12.0, 14.0, 18.0, 348.0, 20.0, 76.0, 0.0, 200.0, 0.0, 3.0, 10.0, 56.0, 22.0, 216.0, 72.0, 32.0, 4.0, 2220.0, 0.0, 42.0, 8.0, 15.0, 84.0, 8.0, 108.0, 26.0, 0.0, 76.0, 18.0, 3.0, 0.0, 448.0, 56.0, 99.0, 80.0, 15.0, 14.0, 8.0, 8.0, 24.0, 0.0, 105.0, 15.0, 96.0, 0.0, 108.0, 4.0, 90.0, 84.0, 6.0, 12.0, 0.0, 0.0, 100.0, 135.0, 372.0, 651.0, 4.0, 150.0, 16.0, 440.0, 112.0, 144.0, 0.0, 45.0, 15.0, 0.0, 123.0, 510.0, 9.0, 4.0, 42.0, 56.0, 2.0, 136.0, 75.0, 28.0, 32.0, 0.0, 6.0, 315.0, 16.0, 0.0, 120.0, 132.0, 540.0, 0.0, 135.0, 120.0, 76.0, 40.0, 12.0, 0.0, 392.0, 134.0, 28.0, 68.0, 12.0, 16.0, 22.0, 42.0, 0.0, 176.0, 16.0, 10.0, 0.0, 0.0, 45.0, 8.0, 60.0, 28.0, 20.0, 54.0, 45.0, 54.0, 231.0, 168.0, 15.0, 3.0, 120.0, 0.0, 64.0, 0.0, 336.0, 40.0, 10.0, 38.0, 0.0, 27.0, 56.0, 184.0, 0.0, 26.0, 20.0, 48.0, 140.0, 120.0, 30.0, 10.0, 16.0, 2.0, 32.0, 4.0, 168.0, 320.0, 30.0, 0.0, 8.0, 18.0, 102.0, 308.0, 80.0, 72.0, 66.0, 6.0, 448.0, 456.0, 20.0, 8.0, 9.0, 2.0, 0.0, 10.0, 166.0, 0.0, 0.0, 84.0, 50.0, 78.0, 14.0, 0.0, 16.0, 10.0, 88.0, 14.0, 28.0, 14.0, 264.0, 42.0, 20.0, 140.0, 0.0, 58.0, 18.0, 192.0, 72.0, 84.0, 2.0, 288.0, 364.0, 2.0, 24.0, 32.0, 2.0, 0.0, 20.0, 632.0, 36.0, 104.0, 6.0, 64.0, 20.0, 120.0, 0.0, 0.0, 6.0, 0.0, 8.0, 0.0, 0.0, 36.0, 10.0, 105.0, 6.0, 20.0, 2.0, 24.0, 14.0, 0.0, 132.0, 4.0, 0.0, 132.0, 98.0, 15.0, 90.0, 136.0, 0.0, 149.0, 42.0, 16.0, 63.0, 8.0, 42.0, 46.0, 3.0, 84.0, 24.0, 378.0, 5.0, 0.0, 92.0, 16.0, 12.0, 144.0, 28.0, 26.0, 63.0, 2.0, 0.0, 16.0, 420.0, 48.0, 90.0, 12.0, 108.0, 1488.0, 0.0, 60.0, 4.0, 88.0, 0.0, 14.0, 42.0, 20.0, 12.0, 78.0, 0.0, 392.0, 8.0, 294.0, 48.0, 204.0, 2.0, 0.0, 120.0, 54.0, 3.0, 8.0, 56.0, 8.0, 60.0, 0.0, 20.0, 0.0, 45.0, 168.0, 16.0, 20.0, 0.0, 120.0, 252.0, 10.0, 96.0, 2.0, 2.0, 16.0, 678.0, 124.0, 0.0, 60.0, 6.0, 0.0, 16.0, 0.0, 14.0, 6.0, 2.0, 318.0, 4.0, 0.0, 34.0, 195.0, 60.0, 160.0, 294.0, 0.0, 172.0, 18.0, 8.0, 0.0, 44.0, 16.0, 2.0, 216.0, 15.0, 568.0, 96.0, 8.0, 32.0, 78.0, 2.0, 24.0, 120.0, 0.0, 14.0, 76.0, 228.0, 20.0, 0.0, 10.0, 0.0, 1.0, 138.0, 24.0, 180.0, 9.0, 90.0, 14.0, 9.0, 200.0, 24.0, 144.0, 495.0, 0.0, 0.0, 170.0, 104.0, 72.0, 0.0, 8.0, 42.0, 60.0, 280.0, 0.0, 3.0, 144.0, 0.0, 20.0, 0.0, 504.0, 6.0, 24.0, 588.0, 0.0, 40.0, 24.0, 108.0, 105.0, 128.0, 0.0, 42.0, 1800.0, 20.0, 26.0, 38.0, 18.0, 120.0, 132.0, 328.0, 24.0, 4.0, 48.0, 22.0, 1800.0, 324.0, 64.0, 0.0, 0.0, 440.0, 20.0, 94.0, 672.0, 4.0, 48.0, 0.0, 18.0, 16.0, 60.0, 8.0, 0.0, 8.0, 8.0, 15.0, 0.0, 0.0, 0.0, 78.0, 105.0, 68.0, 176.0, 440.0, 8.0, 210.0, 0.0, 160.0, 9.0, 18.0, 0.0, 12.0, 0.0, 0.0, 3.0, 6.0, 108.0, 0.0, 20.0, 0.0, 120.0, 28.0, 2.0, 40.0, 88.0, 4.0, 180.0, 0.0, 75.0, 27.0, 16.0, 120.0, 184.0, 0.0, 0.0, 58.0, 4.0, 90.0, 4.0, 28.0, 16.0, 0.0, 384.0, 86.0, 10.0, 56.0, 112.0, 99.0, 196.0, 6.0, 0.0, 18.0, 35.0, 42.0, 1.0, 28.0, 4.0, 36.0, 3.0, 56.0, 120.0, 96.0, 2.0, 4.0, 76.0, 58.0, 20.0, 52.0, 4.0, 216.0, 21.0, 0.0, 196.0, 126.0, 360.0, 112.0, 927.0, 264.0, 74.0, 176.0, 190.0, 0.0, 6.0, 18.0, 156.0, 24.0, 0.0, 156.0, 38.0, 168.0, 0.0, 6.0, 80.0, 20.0, 80.0, 0.0, 0.0, 14.0, 156.0, 0.0, 55.0, 24.0, 0.0, 0.0, 90.0, 76.0, 45.0, 0.0, 8.0, 15.0, 42.0, 42.0, 44.0, 40.0, 16.0, 0.0, 48.0, 108.0, 0.0, 32.0, 56.0, 160.0, 6.0, 28.0, 6.0, 0.0, 24.0, 0.0, 2.0, 0.0, 808.0, 152.0, 32.0, 16.0, 240.0, 18.0, 42.0, 0.0, 424.0, 0.0, 9.0, 16.0, 1.0, 44.0, 110.0, 0.0, 300.0, 5.0, 0.0, 96.0, 12.0, 786.0, 0.0, 632.0, 70.0, 0.0, 24.0, 2.0, 75.0, 63.0, 20.0, 15.0, 4.0, 9.0, 0.0, 11.0, 16.0, 50.0, 10.0, 254.0, 12.0, 0.0, 18.0, 10.0, 10.0, 0.0, 180.0, 56.0, 0.0, 0.0, 0.0, 0.0, 52.0, 6.0, 30.0, 1.0, 0.0, 0.0, 22.0, 42.0, 56.0, 8.0, 18.0, 144.0, 100.0, 0.0, 8.0, 1.0, 24.0, 150.0, 24.0, 0.0, 16.0, 40.0, 24.0, 24.0, 0.0, 0.0, 4.0, 56.0, 220.0, 312.0, 250.0, 24.0, 2.0, 8.0, 20.0, 0.0, 496.0, 180.0, 0.0, 4.0, 2.0, 0.0, 2.0, 348.0, 0.0, 72.0, 54.0, 0.0, 104.0, 54.0, 0.0, 30.0, 0.0, 4.0, 10.0, 0.0, 24.0, 0.0, 2.0, 84.0, 0.0, 0.0, 28.0, 0.0, 57.0, 36.0, 102.0, 38.0, 0.0, 0.0, 0.0, 0.0, 0.0, 0.0, 0.0, 28.0, 198.0, 62.0, 84.0, 44.0, 6.0, 0.0, 36.0, 42.0, 104.0, 16.0, 204.0, 100.0, 160.0, 0.0, 88.0, 0.0, 60.0, 168.0, 0.0, 7.0, 330.0, 306.0, 336.0, 18.0, 14.0, 62.0, 60.0, 0.0, 40.0, 16.0, 4.0, 66.0, 60.0, 20.0, 45.0, 42.0, 24.0, 14.0, 0.0, 8.0, 2.0, 12.0, 0.0, 92.0, 4.0, 135.0, 68.0, 22.0, 16.0, 42.0, 0.0, 8.0, 32.0, 6.0, 28.0, 132.0, 832.0, 15.0, 8.0, 0.0, 28.0, 480.0, 50.0, 0.0, 1.0, 0.0, 1.0, 0.0, 24.0, 1.0, 174.0, 296.0, 0.0, 4.0, 16.0, 4.0, 1.0, 378.0, 156.0, 4.0, 48.0, 28.0, 0.0, 90.0, 1232.0, 56.0, 10.0, 72.0, 30.0, 120.0, 20.0, 0.0, 3.0, 1.0, 0.0, 8.0, 3.0, 60.0, 44.0, 42.0, 48.0, 9.0, 57.0, 96.0, 27.0, 6.0, 0.0, 50.0, 286.0, 0.0, 27.0, 36.0, 64.0, 12.0, 60.0, 0.0, 4.0, 0.0, 18.0, 88.0, 10.0, 0.0, 0.0, 0.0, 36.0, 2.0, 28.0, 1.0, 28.0, 64.0, 120.0, 8.0, 2.0, 648.0, 52.0, 16.0, 24.0, 36.0, 4.0, 12.0, 144.0, 2.0, 272.0, 0.0, 0.0, 21.0, 216.0, 0.0, 0.0, 224.0, 104.0, 106.0, 4.0, 56.0, 2.0, 186.0, 116.0, 96.0, 0.0, 2.0, 94.0, 0.0, 28.0, 9.0, 537.0, 264.0, 1.0, 8.0, 56.0, 328.0, 10.0, 152.0, 104.0, 45.0, 2.0, 94.0, 108.0, 0.0, 10.0, 0.0, 36.0, 0.0, 0.0, 50.0, 6.0, 204.0, 120.0, 384.0, 0.0, 14.0, 0.0, 8.0, 22.0, 130.0, 4.0, 24.0, 0.0, 14.0, 147.0, 52.0, 8.0, 0.0, 408.0, 28.0, 2.0, 20.0, 90.0, 20.0, 6.0, 20.0, 32.0, 0.0, 228.0, 64.0, 20.0, 0.0, 4.0, 16.0, 6.0, 0.0, 0.0, 12.0, 36.0, 0.0, 3.0, 156.0, 24.0, 0.0, 90.0, 0.0, 140.0, 24.0, 0.0, 0.0, 0.0, 40.0, 0.0, 2.0, 72.0, 268.0, 76.0, 2.0, 72.0, 192.0, 4.0, 36.0, 0.0, 32.0, 108.0, 56.0, 3.0, 48.0, 14.0, 36.0, 0.0, 140.0, 312.0, 14.0, 4.0, 144.0, 14.0, 252.0, 16.0, 30.0, 0.0, 3.0, 0.0, 8.0, 280.0, 168.0, 28.0, 8.0, 0.0, 32.0, 0.0, 0.0, 32.0, 12.0, 2.0, 456.0, 296.0, 4.0, 2.0, 9.0, 6.0, 0.0, 0.0, 0.0, 0.0, 0.0, 0.0, 0.0, 0.0, 0.0, 0.0, 0.0, 0.0, 0.0, 0.0, 0.0, 0.0, 0.0, 0.0, 0.0, 0.0, 2.0, 0.0, 0.0, 8.0, 0.0, 0.0, 0.0, 0.0, 0.0, 12.0, 16.0, 30.0, 0.0, 0.0, 36.0, 69.0, 28.0, 1269.0, 0.0, 20.0, 12.0, 0.0, 6.0, 0.0, 0.0, 72.0, 0.0, 24.0, 0.0, 0.0, 0.0, 0.0, 0.0, 0.0, 0.0, 0.0, 0.0, 0.0, 0.0, 0.0, 0.0, 0.0, 40.0, 0.0, 0.0, 0.0, 0.0, 0.0, 0.0, 0.0, 0.0, 0.0, 0.0, 0.0, 0.0, 0.0, 0.0, 0.0, 0.0, 0.0, 12.0, 0.0, 0.0, 0.0, 0.0, 0.0, 0.0, 4.0, 0.0, 0.0, 0.0, 210.0, 0.0, 0.0, 0.0, 0.0, 80.0, 0.0, 10.0, 0.0, 0.0, 0.0, 0.0, 0.0, 4.0, 0.0, 2.0, 2.0, 0.0, 4.0, 0.0, 0.0, 0.0, 4.0, 6.0, 0.0, 0.0, 0.0, 0.0, 0.0, 1.0, 0.0, 0.0, 0.0, 0.0, 2.0, 0.0, 1.0, 0.0, 0.0, 0.0, 0.0, 0.0, 1.0, 0.0, 8.0, 0.0, 2.0, 0.0, 8.0, 16.0, 4.0, 0.0, 8.0, 8.0, 22.0, 104.0, 105.0, 4.0, 0.0, 4.0, 3.0, 88.0, 0.0, 24.0, 1.0, 0.0, 12.0, 0.0, 0.0, 0.0, 0.0, 0.0, 0.0, 0.0, 0.0, 0.0, 0.0, 0.0, 0.0, 16.0, 0.0, 0.0, 0.0, 4.0, 0.0, 0.0, 0.0, 4.0, 0.0, 0.0, 0.0, 0.0, 0.0, 0.0, 0.0, 0.0, 10.0, 2.0, 0.0, 0.0, 0.0, 0.0, 132.0, 6.0, 64.0, 60.0, 0.0, 0.0, 120.0, 60.0, 0.0, 60.0, 54.0, 55.0, 26.0, 0.0, 0.0, 0.0, 0.0, 0.0, 0.0, 0.0, 0.0, 8.0, 0.0, 0.0, 0.0, 0.0, 0.0, 0.0, 0.0, 0.0, 8.0, 9.0, 0.0, 0.0, 0.0, 0.0, 0.0, 24.0, 0.0, 0.0, 0.0, 0.0, 4.0, 0.0, 8.0, 0.0, 0.0, 0.0, 0.0, 204.0, 28.0, 24.0, 168.0, 0.0, 36.0, 80.0, 244.0, 24.0, 344.0, 88.0, 1.0, 84.0, 300.0, 2.0, 168.0, 8.0, 4.0, 0.0, 52.0, 6.0, 3.0, 810.0, 152.0, 160.0, 18.0, 24.0, 48.0, 21.0, 16.0, 6.0, 157.0, 144.0, 128.0, 216.0, 196.0, 0.0, 12.0, 0.0, 22.0, 100.0, 32.0, 172.0, 24.0, 126.0, 48.0, 238.0, 16.0, 48.0, 52.0, 0.0, 12.0, 3.0, 0.0, 0.0, 214.0, 18.0, 184.0, 18.0, 0.0, 80.0, 612.0, 12.0, 6.0, 6.0, 258.0, 50.0, 6.0, 72.0, 28.0, 12.0, 198.0, 0.0, 70.0, 108.0, 36.0, 20.0, 48.0, 254.0, 14.0, 315.0, 28.0, 0.0, 1.0, 558.0, 60.0, 120.0, 14.0, 326.0, 10.0, 30.0, 14.0, 102.0, 2.0, 3.0, 0.0, 1764.0, 26.0, 24.0, 39.0, 4.0, 0.0, 24.0, 0.0, 56.0, 12.0, 148.0, 74.0, 12.0, 45.0, 0.0, 40.0, 0.0, 24.0, 11.0, 21.0, 564.0, 12.0, 0.0, 0.0, 0.0, 0.0, 36.0, 220.0, 0.0, 8.0, 4.0, 18.0, 72.0, 28.0, 0.0, 0.0, 126.0, 0.0, 84.0, 10.0, 2.0, 48.0, 0.0, 60.0, 2.0, 18.0, 1.0, 102.0, 2.0, 240.0, 12.0, 0.0, 30.0, 32.0, 40.0, 0.0, 0.0, 0.0, 2.0, 156.0, 32.0, 63.0, 68.0, 140.0, 0.0, 0.0, 15.0, 30.0, 34.0, 4.0, 354.0, 0.0, 328.0, 12.0, 112.0, 12.0, 30.0, 12.0, 1.0, 0.0, 33.0, 24.0, 88.0, 52.0, 8.0, 42.0, 60.0, 0.0, 4.0, 9.0, 16.0, 2.0, 28.0, 6.0, 84.0, 12.0, 0.0, 276.0, 0.0, 88.0, 42.0, 0.0, 188.0, 26.0, 40.0, 14.0, 0.0, 110.0, 56.0, 35.0, 132.0, 0.0, 156.0, 0.0, 6.0, 10.0, 1080.0, 234.0, 80.0, 0.0, 168.0, 160.0, 252.0, 36.0, 14.0, 52.0, 40.0, 28.0, 56.0, 0.0, 1188.0, 16.0, 144.0, 5.0, 2.0, 28.0, 46.0, 12.0, 9.0, 0.0, 50.0, 136.0, 0.0, 434.0, 0.0, 22.0, 54.0, 4.0, 750.0, 9.0, 100.0, 44.0, 519.0, 36.0, 0.0, 3.0, 408.0, 4.0, 60.0, 60.0, 65.0, 64.0, 8.0, 0.0, 44.0, 160.0, 40.0, 0.0, 6.0, 27.0, 55.0, 0.0, 0.0, 0.0, 48.0, 108.0, 20.0, 0.0, 4.0, 6.0, 96.0, 140.0, 6.0, 62.0, 46.0, 25.0, 16.0, 656.0, 12.0, 2.0, 10.0, 120.0, 204.0, 96.0, 342.0, 0.0, 0.0, 172.0, 285.0, 0.0, 88.0, 0.0, 48.0, 315.0, 0.0, 0.0, 0.0, 8.0, 14.0, 8.0, 36.0, 30.0, 1.0, 0.0, 6.0, 54.0, 14.0, 20.0, 18.0, 126.0, 30.0, 0.0, 0.0, 0.0, 13.0, 70.0, 6.0, 72.0, 20.0, 0.0, 0.0, 16.0, 8.0, 106.0, 20.0, 48.0, 4.0, 20.0, 174.0, 3.0, 10.0, 128.0, 8.0, 108.0, 28.0, 488.0, 6.0, 52.0, 22.0, 32.0, 10.0, 160.0, 12.0, 0.0, 0.0, 0.0, 2.0, 54.0, 72.0, 52.0, 8.0, 54.0, 2.0, 55.0, 106.0, 90.0, 12.0, 135.0, 76.0, 4.0, 0.0, 50.0, 0.0, 48.0, 154.0, 32.0, 0.0, 20.0, 20.0, 120.0, 126.0, 15.0, 708.0, 28.0, 0.0, 8.0, 40.0, 4.0, 12.0, 90.0, 48.0, 0.0, 446.0, 402.0, 26.0, 0.0, 0.0, 0.0, 216.0, 60.0, 44.0, 0.0, 4.0, 48.0, 76.0, 40.0, 0.0, 224.0, 72.0, 24.0, 36.0, 238.0, 568.0, 42.0, 0.0, 4.0, 0.0, 116.0, 63.0, 348.0, 4.0, 192.0, 50.0, 0.0, 18.0, 14.0, 210.0, 168.0, 252.0, 104.0, 36.0, 72.0, 2.0, 18.0, 190.0, 30.0, 0.0, 104.0, 0.0, 16.0, 64.0, 256.0, 0.0, 32.0, 16.0, 8.0, 30.0, 78.0, 137.0, 2.0, 164.0, 56.0, 352.0, 404.0, 32.0, 12.0, 46.0, 0.0, 168.0, 36.0, 0.0, 20.0, 1.0, 0.0, 32.0, 0.0, 24.0, 564.0, 2.0, 2.0, 96.0, 36.0, 28.0, 84.0, 24.0, 8.0, 84.0, 75.0, 32.0, 4.0, 20.0, 224.0, 20.0, 192.0, 222.0, 210.0, 104.0, 20.0, 0.0, 16.0, 2.0, 8.0, 0.0, 0.0, 24.0, 40.0, 310.0, 448.0, 0.0, 48.0, 0.0, 60.0, 0.0, 342.0, 12.0, 2.0, 8.0, 264.0, 8.0, 18.0, 63.0, 192.0, 138.0, 0.0, 12.0, 154.0]}],\n",
              "                        {\"coloraxis\": {\"colorbar\": {\"title\": {\"text\": \"flux\"}}, \"colorscale\": [[0.0, \"#0d0887\"], [0.1111111111111111, \"#46039f\"], [0.2222222222222222, \"#7201a8\"], [0.3333333333333333, \"#9c179e\"], [0.4444444444444444, \"#bd3786\"], [0.5555555555555556, \"#d8576b\"], [0.6666666666666666, \"#ed7953\"], [0.7777777777777778, \"#fb9f3a\"], [0.8888888888888888, \"#fdca26\"], [1.0, \"#f0f921\"]]}, \"legend\": {\"tracegroupgap\": 0}, \"mapbox\": {\"center\": {\"lat\": 42.340674, \"lon\": -71.082529}, \"domain\": {\"x\": [0.0, 1.0], \"y\": [0.0, 1.0]}, \"style\": \"stamen-terrain\", \"zoom\": 11}, \"margin\": {\"t\": 60}, \"template\": {\"data\": {\"bar\": [{\"error_x\": {\"color\": \"#2a3f5f\"}, \"error_y\": {\"color\": \"#2a3f5f\"}, \"marker\": {\"line\": {\"color\": \"#E5ECF6\", \"width\": 0.5}}, \"type\": \"bar\"}], \"barpolar\": [{\"marker\": {\"line\": {\"color\": \"#E5ECF6\", \"width\": 0.5}}, \"type\": \"barpolar\"}], \"carpet\": [{\"aaxis\": {\"endlinecolor\": \"#2a3f5f\", \"gridcolor\": \"white\", \"linecolor\": \"white\", \"minorgridcolor\": \"white\", \"startlinecolor\": \"#2a3f5f\"}, \"baxis\": {\"endlinecolor\": \"#2a3f5f\", \"gridcolor\": \"white\", \"linecolor\": \"white\", \"minorgridcolor\": \"white\", \"startlinecolor\": \"#2a3f5f\"}, \"type\": \"carpet\"}], \"choropleth\": [{\"colorbar\": {\"outlinewidth\": 0, \"ticks\": \"\"}, \"type\": \"choropleth\"}], \"contour\": [{\"colorbar\": {\"outlinewidth\": 0, \"ticks\": \"\"}, \"colorscale\": [[0.0, \"#0d0887\"], [0.1111111111111111, \"#46039f\"], [0.2222222222222222, \"#7201a8\"], [0.3333333333333333, \"#9c179e\"], [0.4444444444444444, \"#bd3786\"], [0.5555555555555556, \"#d8576b\"], [0.6666666666666666, \"#ed7953\"], [0.7777777777777778, \"#fb9f3a\"], [0.8888888888888888, \"#fdca26\"], [1.0, \"#f0f921\"]], \"type\": \"contour\"}], \"contourcarpet\": [{\"colorbar\": {\"outlinewidth\": 0, \"ticks\": \"\"}, \"type\": \"contourcarpet\"}], \"heatmap\": [{\"colorbar\": {\"outlinewidth\": 0, \"ticks\": \"\"}, \"colorscale\": [[0.0, \"#0d0887\"], [0.1111111111111111, \"#46039f\"], [0.2222222222222222, \"#7201a8\"], [0.3333333333333333, \"#9c179e\"], [0.4444444444444444, \"#bd3786\"], [0.5555555555555556, \"#d8576b\"], [0.6666666666666666, \"#ed7953\"], [0.7777777777777778, \"#fb9f3a\"], [0.8888888888888888, \"#fdca26\"], [1.0, \"#f0f921\"]], \"type\": \"heatmap\"}], \"heatmapgl\": [{\"colorbar\": {\"outlinewidth\": 0, \"ticks\": \"\"}, \"colorscale\": [[0.0, \"#0d0887\"], [0.1111111111111111, \"#46039f\"], [0.2222222222222222, \"#7201a8\"], [0.3333333333333333, \"#9c179e\"], [0.4444444444444444, \"#bd3786\"], [0.5555555555555556, \"#d8576b\"], [0.6666666666666666, \"#ed7953\"], [0.7777777777777778, \"#fb9f3a\"], [0.8888888888888888, \"#fdca26\"], [1.0, \"#f0f921\"]], \"type\": \"heatmapgl\"}], \"histogram\": [{\"marker\": {\"colorbar\": {\"outlinewidth\": 0, \"ticks\": \"\"}}, \"type\": \"histogram\"}], \"histogram2d\": [{\"colorbar\": {\"outlinewidth\": 0, \"ticks\": \"\"}, \"colorscale\": [[0.0, \"#0d0887\"], [0.1111111111111111, \"#46039f\"], [0.2222222222222222, \"#7201a8\"], [0.3333333333333333, \"#9c179e\"], [0.4444444444444444, \"#bd3786\"], [0.5555555555555556, \"#d8576b\"], [0.6666666666666666, \"#ed7953\"], [0.7777777777777778, \"#fb9f3a\"], [0.8888888888888888, \"#fdca26\"], [1.0, \"#f0f921\"]], \"type\": \"histogram2d\"}], \"histogram2dcontour\": [{\"colorbar\": {\"outlinewidth\": 0, \"ticks\": \"\"}, \"colorscale\": [[0.0, \"#0d0887\"], [0.1111111111111111, \"#46039f\"], [0.2222222222222222, \"#7201a8\"], [0.3333333333333333, \"#9c179e\"], [0.4444444444444444, \"#bd3786\"], [0.5555555555555556, \"#d8576b\"], [0.6666666666666666, \"#ed7953\"], [0.7777777777777778, \"#fb9f3a\"], [0.8888888888888888, \"#fdca26\"], [1.0, \"#f0f921\"]], \"type\": \"histogram2dcontour\"}], \"mesh3d\": [{\"colorbar\": {\"outlinewidth\": 0, \"ticks\": \"\"}, \"type\": \"mesh3d\"}], \"parcoords\": [{\"line\": {\"colorbar\": {\"outlinewidth\": 0, \"ticks\": \"\"}}, \"type\": \"parcoords\"}], \"pie\": [{\"automargin\": true, \"type\": \"pie\"}], \"scatter\": [{\"marker\": {\"colorbar\": {\"outlinewidth\": 0, \"ticks\": \"\"}}, \"type\": \"scatter\"}], \"scatter3d\": [{\"line\": {\"colorbar\": {\"outlinewidth\": 0, \"ticks\": \"\"}}, \"marker\": {\"colorbar\": {\"outlinewidth\": 0, \"ticks\": \"\"}}, \"type\": \"scatter3d\"}], \"scattercarpet\": [{\"marker\": {\"colorbar\": {\"outlinewidth\": 0, \"ticks\": \"\"}}, \"type\": \"scattercarpet\"}], \"scattergeo\": [{\"marker\": {\"colorbar\": {\"outlinewidth\": 0, \"ticks\": \"\"}}, \"type\": \"scattergeo\"}], \"scattergl\": [{\"marker\": {\"colorbar\": {\"outlinewidth\": 0, \"ticks\": \"\"}}, \"type\": \"scattergl\"}], \"scattermapbox\": [{\"marker\": {\"colorbar\": {\"outlinewidth\": 0, \"ticks\": \"\"}}, \"type\": \"scattermapbox\"}], \"scatterpolar\": [{\"marker\": {\"colorbar\": {\"outlinewidth\": 0, \"ticks\": \"\"}}, \"type\": \"scatterpolar\"}], \"scatterpolargl\": [{\"marker\": {\"colorbar\": {\"outlinewidth\": 0, \"ticks\": \"\"}}, \"type\": \"scatterpolargl\"}], \"scatterternary\": [{\"marker\": {\"colorbar\": {\"outlinewidth\": 0, \"ticks\": \"\"}}, \"type\": \"scatterternary\"}], \"surface\": [{\"colorbar\": {\"outlinewidth\": 0, \"ticks\": \"\"}, \"colorscale\": [[0.0, \"#0d0887\"], [0.1111111111111111, \"#46039f\"], [0.2222222222222222, \"#7201a8\"], [0.3333333333333333, \"#9c179e\"], [0.4444444444444444, \"#bd3786\"], [0.5555555555555556, \"#d8576b\"], [0.6666666666666666, \"#ed7953\"], [0.7777777777777778, \"#fb9f3a\"], [0.8888888888888888, \"#fdca26\"], [1.0, \"#f0f921\"]], \"type\": \"surface\"}], \"table\": [{\"cells\": {\"fill\": {\"color\": \"#EBF0F8\"}, \"line\": {\"color\": \"white\"}}, \"header\": {\"fill\": {\"color\": \"#C8D4E3\"}, \"line\": {\"color\": \"white\"}}, \"type\": \"table\"}]}, \"layout\": {\"annotationdefaults\": {\"arrowcolor\": \"#2a3f5f\", \"arrowhead\": 0, \"arrowwidth\": 1}, \"coloraxis\": {\"colorbar\": {\"outlinewidth\": 0, \"ticks\": \"\"}}, \"colorscale\": {\"diverging\": [[0, \"#8e0152\"], [0.1, \"#c51b7d\"], [0.2, \"#de77ae\"], [0.3, \"#f1b6da\"], [0.4, \"#fde0ef\"], [0.5, \"#f7f7f7\"], [0.6, \"#e6f5d0\"], [0.7, \"#b8e186\"], [0.8, \"#7fbc41\"], [0.9, \"#4d9221\"], [1, \"#276419\"]], \"sequential\": [[0.0, \"#0d0887\"], [0.1111111111111111, \"#46039f\"], [0.2222222222222222, \"#7201a8\"], [0.3333333333333333, \"#9c179e\"], [0.4444444444444444, \"#bd3786\"], [0.5555555555555556, \"#d8576b\"], [0.6666666666666666, \"#ed7953\"], [0.7777777777777778, \"#fb9f3a\"], [0.8888888888888888, \"#fdca26\"], [1.0, \"#f0f921\"]], \"sequentialminus\": [[0.0, \"#0d0887\"], [0.1111111111111111, \"#46039f\"], [0.2222222222222222, \"#7201a8\"], [0.3333333333333333, \"#9c179e\"], [0.4444444444444444, \"#bd3786\"], [0.5555555555555556, \"#d8576b\"], [0.6666666666666666, \"#ed7953\"], [0.7777777777777778, \"#fb9f3a\"], [0.8888888888888888, \"#fdca26\"], [1.0, \"#f0f921\"]]}, \"colorway\": [\"#636efa\", \"#EF553B\", \"#00cc96\", \"#ab63fa\", \"#FFA15A\", \"#19d3f3\", \"#FF6692\", \"#B6E880\", \"#FF97FF\", \"#FECB52\"], \"font\": {\"color\": \"#2a3f5f\"}, \"geo\": {\"bgcolor\": \"white\", \"lakecolor\": \"white\", \"landcolor\": \"#E5ECF6\", \"showlakes\": true, \"showland\": true, \"subunitcolor\": \"white\"}, \"hoverlabel\": {\"align\": \"left\"}, \"hovermode\": \"closest\", \"mapbox\": {\"style\": \"light\"}, \"paper_bgcolor\": \"white\", \"plot_bgcolor\": \"#E5ECF6\", \"polar\": {\"angularaxis\": {\"gridcolor\": \"white\", \"linecolor\": \"white\", \"ticks\": \"\"}, \"bgcolor\": \"#E5ECF6\", \"radialaxis\": {\"gridcolor\": \"white\", \"linecolor\": \"white\", \"ticks\": \"\"}}, \"scene\": {\"xaxis\": {\"backgroundcolor\": \"#E5ECF6\", \"gridcolor\": \"white\", \"gridwidth\": 2, \"linecolor\": \"white\", \"showbackground\": true, \"ticks\": \"\", \"zerolinecolor\": \"white\"}, \"yaxis\": {\"backgroundcolor\": \"#E5ECF6\", \"gridcolor\": \"white\", \"gridwidth\": 2, \"linecolor\": \"white\", \"showbackground\": true, \"ticks\": \"\", \"zerolinecolor\": \"white\"}, \"zaxis\": {\"backgroundcolor\": \"#E5ECF6\", \"gridcolor\": \"white\", \"gridwidth\": 2, \"linecolor\": \"white\", \"showbackground\": true, \"ticks\": \"\", \"zerolinecolor\": \"white\"}}, \"shapedefaults\": {\"line\": {\"color\": \"#2a3f5f\"}}, \"ternary\": {\"aaxis\": {\"gridcolor\": \"white\", \"linecolor\": \"white\", \"ticks\": \"\"}, \"baxis\": {\"gridcolor\": \"white\", \"linecolor\": \"white\", \"ticks\": \"\"}, \"bgcolor\": \"#E5ECF6\", \"caxis\": {\"gridcolor\": \"white\", \"linecolor\": \"white\", \"ticks\": \"\"}}, \"title\": {\"x\": 0.05}, \"xaxis\": {\"automargin\": true, \"gridcolor\": \"white\", \"linecolor\": \"white\", \"ticks\": \"\", \"title\": {\"standoff\": 15}, \"zerolinecolor\": \"white\", \"zerolinewidth\": 2}, \"yaxis\": {\"automargin\": true, \"gridcolor\": \"white\", \"linecolor\": \"white\", \"ticks\": \"\", \"title\": {\"standoff\": 15}, \"zerolinecolor\": \"white\", \"zerolinewidth\": 2}}}},\n",
              "                        {\"responsive\": true}\n",
              "                    ).then(function(){\n",
              "                            \n",
              "var gd = document.getElementById('3af47854-8b03-4bea-9c5b-3ad2e91c66be');\n",
              "var x = new MutationObserver(function (mutations, observer) {{\n",
              "        var display = window.getComputedStyle(gd).display;\n",
              "        if (!display || display === 'none') {{\n",
              "            console.log([gd, 'removed!']);\n",
              "            Plotly.purge(gd);\n",
              "            observer.disconnect();\n",
              "        }}\n",
              "}});\n",
              "\n",
              "// Listen for the removal of the full notebook cells\n",
              "var notebookContainer = gd.closest('#notebook-container');\n",
              "if (notebookContainer) {{\n",
              "    x.observe(notebookContainer, {childList: true});\n",
              "}}\n",
              "\n",
              "// Listen for the clearing of the current output cell\n",
              "var outputEl = gd.closest('.output');\n",
              "if (outputEl) {{\n",
              "    x.observe(outputEl, {childList: true});\n",
              "}}\n",
              "\n",
              "                        })\n",
              "                };\n",
              "                \n",
              "            </script>\n",
              "        </div>\n",
              "</body>\n",
              "</html>"
            ]
          },
          "metadata": {
            "tags": []
          }
        }
      ]
    },
    {
      "cell_type": "code",
      "metadata": {
        "id": "TEtAlxtDr7e6"
      },
      "source": [
        ""
      ],
      "execution_count": null,
      "outputs": []
    }
  ]
}